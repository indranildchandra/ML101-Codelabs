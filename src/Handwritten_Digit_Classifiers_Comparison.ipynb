{
  "nbformat": 4,
  "nbformat_minor": 0,
  "metadata": {
    "colab": {
      "name": "Handwritten_Digit_Classifiers_Comparison.ipynb",
      "version": "0.3.2",
      "provenance": [],
      "collapsed_sections": [],
      "include_colab_link": true
    },
    "kernelspec": {
      "name": "python3",
      "display_name": "Python 3"
    },
    "accelerator": "GPU"
  },
  "cells": [
    {
      "cell_type": "markdown",
      "metadata": {
        "id": "view-in-github",
        "colab_type": "text"
      },
      "source": [
        "<a href=\"https://colab.research.google.com/github/indranildchandra/ML101-Codelabs/blob/master/src/Handwritten_Digit_Classifiers_Comparison.ipynb\" target=\"_parent\"><img src=\"https://colab.research.google.com/assets/colab-badge.svg\" alt=\"Open In Colab\"/></a>"
      ]
    },
    {
      "cell_type": "markdown",
      "metadata": {
        "id": "xkXT-XGi3rG4",
        "colab_type": "text"
      },
      "source": [
        "# Comaprison of 3 classifiers for Handwritten Digit Classification\n",
        "### Simple Neural Network\n",
        "### Simple CNN\n",
        "### Larger CNN\n"
      ]
    },
    {
      "cell_type": "markdown",
      "metadata": {
        "id": "2MgQCVKW5IA4",
        "colab_type": "text"
      },
      "source": [
        "#### Description of the MNIST Handwritten Digit Recognition Problem\n",
        "\n",
        "The MNIST problem is a dataset developed by Yann LeCun, Corinna Cortes and Christopher Burges for evaluating machine learning models on the handwritten digit classification problem.\n",
        "\n",
        "The dataset was constructed from a number of scanned document dataset available from the National Institute of Standards and Technology (NIST). This is where the name for the dataset comes from, as the Modified NIST or MNIST dataset.\n",
        "\n",
        "Images of digits were taken from a variety of scanned documents, normalized in size and centered. This makes it an excellent dataset for evaluating models, allowing the developer to focus on the machine learning with very little data cleaning or preparation required.\n",
        "\n",
        "Each image is a 28 by 28 pixel square (784 pixels total). A standard spit of the dataset is used to evaluate and compare models, where 60,000 images are used to train a model and a separate set of 10,000 images are used to test it.\n",
        "\n",
        "It is a digit recognition task. As such there are 10 digits (0 to 9) or 10 classes to predict. Results are reported using prediction error, which is nothing more than the inverted classification accuracy.\n",
        "\n",
        "Excellent results achieve a prediction error of less than 1%. State-of-the-art prediction error of approximately 0.2% can be achieved with large Convolutional Neural Networks. There is a listing of the state-of-the-art results and links to the relevant papers on the MNIST and other datasets on Rodrigo Benenson’s webpage.\n",
        "\n"
      ]
    },
    {
      "cell_type": "markdown",
      "metadata": {
        "id": "NboZ8uHT5PRr",
        "colab_type": "text"
      },
      "source": [
        "#### Loading the MNIST dataset in Keras\n",
        "\n",
        "The Keras deep learning library provides a convenience method for loading the MNIST dataset.\n",
        "\n",
        "The dataset is downloaded automatically the first time this function is called and is stored in your home directory in ~/.keras/datasets/mnist.pkl.gz as a 15MB file.\n",
        "\n",
        "This is very handy for developing and testing deep learning models.\n",
        "\n",
        "To demonstrate how easy it is to load the MNIST dataset, we will first write a little script to download and visualize the first 4 images in the training dataset."
      ]
    },
    {
      "cell_type": "code",
      "metadata": {
        "id": "I80u27Dd1-8t",
        "colab_type": "code",
        "colab": {
          "base_uri": "https://localhost:8080/",
          "height": 269
        },
        "outputId": "2a04fb6f-c050-4452-848f-d86ac939c321"
      },
      "source": [
        "# Plot ad hoc mnist instances\n",
        "from keras.datasets import mnist\n",
        "import matplotlib.pyplot as plt\n",
        "# load (downloaded if needed) the MNIST dataset\n",
        "(X_train, y_train), (X_test, y_test) = mnist.load_data()\n",
        "# plot 4 images as gray scale\n",
        "plt.subplot(221)\n",
        "plt.imshow(X_train[0], cmap=plt.get_cmap('gray'))\n",
        "plt.subplot(222)\n",
        "plt.imshow(X_train[1], cmap=plt.get_cmap('gray'))\n",
        "plt.subplot(223)\n",
        "plt.imshow(X_train[2], cmap=plt.get_cmap('gray'))\n",
        "plt.subplot(224)\n",
        "plt.imshow(X_train[3], cmap=plt.get_cmap('gray'))\n",
        "# show the plot\n",
        "plt.show()"
      ],
      "execution_count": 25,
      "outputs": [
        {
          "output_type": "display_data",
          "data": {
            "image/png": "[encoded data removed]",
            "text/plain": [
              "<Figure size 432x288 with 4 Axes>"
            ]
          },
          "metadata": {
            "tags": []
          }
        }
      ]
    },
    {
      "cell_type": "markdown",
      "metadata": {
        "id": "VXr6Cb4g5aDT",
        "colab_type": "text"
      },
      "source": [
        "#### Baseline Model with Multi-Layer Perceptrons\n",
        "\n",
        "Do we really need a complex model like a convolutional neural network to get the best results with MNIST?\n",
        "\n",
        "You can get very good results using a very simple neural network model with a single hidden layer. In this section we will create a simple multi-layer perceptron model that achieves an error rate of 1.74%. We will use this as a baseline for comparing more complex convolutional neural network models.\n",
        "\n",
        "Let’s start off by importing the classes and functions we will need."
      ]
    },
    {
      "cell_type": "code",
      "metadata": {
        "id": "gRLWtX8g2GKN",
        "colab_type": "code",
        "colab": {}
      },
      "source": [
        "import numpy\n",
        "from keras.datasets import mnist\n",
        "from keras.models import Sequential\n",
        "from keras.layers import Dense\n",
        "from keras.layers import Dropout\n",
        "from keras.utils import np_utils"
      ],
      "execution_count": 0,
      "outputs": []
    },
    {
      "cell_type": "markdown",
      "metadata": {
        "id": "-a9f7W0w5leO",
        "colab_type": "text"
      },
      "source": [
        "It is always a good idea to initialize the random number generator to a constant to ensure that the results of your script are reproducible."
      ]
    },
    {
      "cell_type": "code",
      "metadata": {
        "id": "Hx2Jd7OG2KdG",
        "colab_type": "code",
        "colab": {}
      },
      "source": [
        "# fix random seed for reproducibility\n",
        "seed = 7\n",
        "numpy.random.seed(seed)"
      ],
      "execution_count": 0,
      "outputs": []
    },
    {
      "cell_type": "markdown",
      "metadata": {
        "id": "w2Q89Btc5pxu",
        "colab_type": "text"
      },
      "source": [
        "Now we can load the MNIST dataset using the Keras helper function."
      ]
    },
    {
      "cell_type": "code",
      "metadata": {
        "id": "PtAed4bY2NN1",
        "colab_type": "code",
        "colab": {}
      },
      "source": [
        "# load data\n",
        "(X_train, y_train), (X_test, y_test) = mnist.load_data()"
      ],
      "execution_count": 0,
      "outputs": []
    },
    {
      "cell_type": "markdown",
      "metadata": {
        "id": "h1YPXt2X5vKL",
        "colab_type": "text"
      },
      "source": [
        "The training dataset is structured as a 3-dimensional array of instance, image width and image height. For a multi-layer perceptron model we must reduce the images down into a vector of pixels. In this case the 28×28 sized images will be 784 pixel input values.\n",
        "\n",
        "We can do this transform easily using the reshape() function on the NumPy array. We can also reduce our memory requirements by forcing the precision of the pixel values to be 32 bit, the default precision used by Keras anyway."
      ]
    },
    {
      "cell_type": "code",
      "metadata": {
        "id": "bzCHn1Zt2Pc9",
        "colab_type": "code",
        "colab": {}
      },
      "source": [
        "# flatten 28*28 images to a 784 vector for each image\n",
        "num_pixels = X_train.shape[1] * X_train.shape[2]\n",
        "X_train = X_train.reshape(X_train.shape[0], num_pixels).astype('float32')\n",
        "X_test = X_test.reshape(X_test.shape[0], num_pixels).astype('float32')"
      ],
      "execution_count": 0,
      "outputs": []
    },
    {
      "cell_type": "markdown",
      "metadata": {
        "id": "dio2JXfI5zov",
        "colab_type": "text"
      },
      "source": [
        "The pixel values are gray scale between 0 and 255. It is almost always a good idea to perform some scaling of input values when using neural network models. Because the scale is well known and well behaved, we can very quickly normalize the pixel values to the range 0 and 1 by dividing each value by the maximum of 255."
      ]
    },
    {
      "cell_type": "code",
      "metadata": {
        "id": "8HaJuuob2R2C",
        "colab_type": "code",
        "colab": {}
      },
      "source": [
        "# normalize inputs from 0-255 to 0-1\n",
        "X_train = X_train / 255\n",
        "X_test = X_test / 255"
      ],
      "execution_count": 0,
      "outputs": []
    },
    {
      "cell_type": "markdown",
      "metadata": {
        "id": "5z9sv91554dz",
        "colab_type": "text"
      },
      "source": [
        "Finally, the output variable is an integer from 0 to 9. This is a multi-class classification problem. As such, it is good practice to use a one hot encoding of the class values, transforming the vector of class integers into a binary matrix.\n",
        "\n",
        "We can easily do this using the built-in np_utils.to_categorical() helper function in Keras."
      ]
    },
    {
      "cell_type": "code",
      "metadata": {
        "id": "7SbR-nMY2UL6",
        "colab_type": "code",
        "colab": {}
      },
      "source": [
        "# one hot encode outputs\n",
        "y_train = np_utils.to_categorical(y_train)\n",
        "y_test = np_utils.to_categorical(y_test)\n",
        "num_classes = y_test.shape[1]"
      ],
      "execution_count": 0,
      "outputs": []
    },
    {
      "cell_type": "markdown",
      "metadata": {
        "id": "ncUWa-SD2rIn",
        "colab_type": "text"
      },
      "source": [
        "# Simple Neural Network"
      ]
    },
    {
      "cell_type": "markdown",
      "metadata": {
        "id": "Ah7ijZCJ58nk",
        "colab_type": "text"
      },
      "source": [
        "We are now ready to create our simple neural network model. We will define our model in a function. This is handy if you want to extend the example later and try and get a better score."
      ]
    },
    {
      "cell_type": "code",
      "metadata": {
        "id": "AMM0rSY82Wcs",
        "colab_type": "code",
        "colab": {}
      },
      "source": [
        "# define baseline model\n",
        "def baseline_model():\n",
        "\t# create model\n",
        "\tmodel = Sequential()\n",
        "\tmodel.add(Dense(num_pixels, input_dim=num_pixels, kernel_initializer='normal', activation='relu'))\n",
        "\tmodel.add(Dense(num_classes, kernel_initializer='normal', activation='softmax'))\n",
        "\t# Compile model\n",
        "\tmodel.compile(loss='categorical_crossentropy', optimizer='adam', metrics=['accuracy'])\n",
        "\treturn model"
      ],
      "execution_count": 0,
      "outputs": []
    },
    {
      "cell_type": "markdown",
      "metadata": {
        "id": "5I6C4W1v6Bwf",
        "colab_type": "text"
      },
      "source": [
        "The model is a simple neural network with one hidden layer with the same number of neurons as there are inputs (784). A rectifier activation function is used for the neurons in the hidden layer.\n",
        "\n",
        "A softmax activation function is used on the output layer to turn the outputs into probability-like values and allow one class of the 10 to be selected as the model’s output prediction. Logarithmic loss is used as the loss function (called categorical_crossentropy in Keras) and the efficient ADAM gradient descent algorithm is used to learn the weights.\n",
        "\n",
        "We can now fit and evaluate the model. The model is fit over 10 epochs with updates every 200 images. The test data is used as the validation dataset, allowing you to see the skill of the model as it trains. A verbose value of 2 is used to reduce the output to one line for each training epoch.\n",
        "\n",
        "Finally, the test dataset is used to evaluate the model and a classification error rate is printed."
      ]
    },
    {
      "cell_type": "code",
      "metadata": {
        "id": "5XYicMl62cPU",
        "colab_type": "code",
        "colab": {
          "base_uri": "https://localhost:8080/",
          "height": 578
        },
        "outputId": "83b1c7ec-d45a-4430-f4ef-863295da69b2"
      },
      "source": [
        "# build the model\n",
        "model = baseline_model()\n",
        "model.summary()\n",
        "# Fit the model\n",
        "model.fit(X_train, y_train, validation_data=(X_test, y_test), epochs=10, batch_size=200, verbose=2)\n",
        "# Final evaluation of the model\n",
        "scores = model.evaluate(X_test, y_test, verbose=0)\n",
        "print(\"Baseline Error: %.2f%%\" % (100-scores[1]*100))"
      ],
      "execution_count": 33,
      "outputs": [
        {
          "output_type": "stream",
          "text": [
            "_________________________________________________________________\n",
            "Layer (type)                 Output Shape              Param #   \n",
            "=================================================================\n",
            "dense_11 (Dense)             (None, 784)               615440    \n",
            "_________________________________________________________________\n",
            "dense_12 (Dense)             (None, 10)                7850      \n",
            "=================================================================\n",
            "Total params: 623,290\n",
            "Trainable params: 623,290\n",
            "Non-trainable params: 0\n",
            "_________________________________________________________________\n",
            "Train on 60000 samples, validate on 10000 samples\n",
            "Epoch 1/10\n",
            " - 2s - loss: 0.2783 - acc: 0.9210 - val_loss: 0.1412 - val_acc: 0.9575\n",
            "Epoch 2/10\n",
            " - 1s - loss: 0.1115 - acc: 0.9676 - val_loss: 0.0920 - val_acc: 0.9707\n",
            "Epoch 3/10\n",
            " - 1s - loss: 0.0718 - acc: 0.9798 - val_loss: 0.0780 - val_acc: 0.9768\n",
            "Epoch 4/10\n",
            " - 1s - loss: 0.0504 - acc: 0.9858 - val_loss: 0.0741 - val_acc: 0.9769\n",
            "Epoch 5/10\n",
            " - 1s - loss: 0.0373 - acc: 0.9894 - val_loss: 0.0672 - val_acc: 0.9795\n",
            "Epoch 6/10\n",
            " - 1s - loss: 0.0270 - acc: 0.9927 - val_loss: 0.0644 - val_acc: 0.9799\n",
            "Epoch 7/10\n",
            " - 1s - loss: 0.0211 - acc: 0.9946 - val_loss: 0.0623 - val_acc: 0.9814\n",
            "Epoch 8/10\n",
            " - 1s - loss: 0.0141 - acc: 0.9970 - val_loss: 0.0627 - val_acc: 0.9794\n",
            "Epoch 9/10\n",
            " - 1s - loss: 0.0110 - acc: 0.9977 - val_loss: 0.0599 - val_acc: 0.9806\n",
            "Epoch 10/10\n",
            " - 1s - loss: 0.0084 - acc: 0.9983 - val_loss: 0.0584 - val_acc: 0.9810\n",
            "Baseline Error: 1.90%\n"
          ],
          "name": "stdout"
        }
      ]
    },
    {
      "cell_type": "markdown",
      "metadata": {
        "id": "ajK-nkhl2uKU",
        "colab_type": "text"
      },
      "source": [
        "# Simple CNN"
      ]
    },
    {
      "cell_type": "markdown",
      "metadata": {
        "id": "DiwqRQmE6JNG",
        "colab_type": "text"
      },
      "source": [
        "Now that we have seen how to load the MNIST dataset and train a simple multi-layer perceptron model on it, it is time to develop a more sophisticated convolutional neural network or CNN model.\n",
        "\n",
        "Keras does provide a lot of capability for creating convolutional neural networks.\n",
        "\n",
        "In this section we will create a simple CNN for MNIST that demonstrates how to use all of the aspects of a modern CNN implementation, including Convolutional layers, Pooling layers and Dropout layers.\n",
        "\n",
        "The first step is to import the classes and functions needed."
      ]
    },
    {
      "cell_type": "code",
      "metadata": {
        "id": "s9gnUVo72cvj",
        "colab_type": "code",
        "colab": {}
      },
      "source": [
        "import numpy\n",
        "from keras.datasets import mnist\n",
        "from keras.models import Sequential\n",
        "from keras.layers import Dense\n",
        "from keras.layers import Dropout\n",
        "from keras.layers import Flatten\n",
        "from keras.layers.convolutional import Conv2D\n",
        "from keras.layers.convolutional import MaxPooling2D\n",
        "from keras.utils import np_utils\n",
        "from keras import backend as K\n",
        "K.set_image_dim_ordering('th')"
      ],
      "execution_count": 0,
      "outputs": []
    },
    {
      "cell_type": "markdown",
      "metadata": {
        "id": "FzP2_Nag6NMU",
        "colab_type": "text"
      },
      "source": [
        "Again, we always initialize the random number generator to a constant seed value for reproducibility of results."
      ]
    },
    {
      "cell_type": "code",
      "metadata": {
        "id": "5Eufy3En2zRZ",
        "colab_type": "code",
        "colab": {}
      },
      "source": [
        "# fix random seed for reproducibility\n",
        "seed = 7\n",
        "numpy.random.seed(seed)"
      ],
      "execution_count": 0,
      "outputs": []
    },
    {
      "cell_type": "markdown",
      "metadata": {
        "id": "yWDMnnln6Qvp",
        "colab_type": "text"
      },
      "source": [
        "Next we need to load the MNIST dataset and reshape it so that it is suitable for use training a CNN. In Keras, the layers used for two-dimensional convolutions expect pixel values with the dimensions [pixels][width][height].\n",
        "\n",
        "In the case of RGB, the first dimension pixels would be 3 for the red, green and blue components and it would be like having 3 image inputs for every color image. In the case of MNIST where the pixel values are gray scale, the pixel dimension is set to 1."
      ]
    },
    {
      "cell_type": "code",
      "metadata": {
        "id": "nF0PbjNw22kf",
        "colab_type": "code",
        "colab": {}
      },
      "source": [
        "# load data\n",
        "(X_train, y_train), (X_test, y_test) = mnist.load_data()\n",
        "# reshape to be [samples][pixels][width][height]\n",
        "X_train = X_train.reshape(X_train.shape[0], 1, 28, 28).astype('float32')\n",
        "X_test = X_test.reshape(X_test.shape[0], 1, 28, 28).astype('float32')"
      ],
      "execution_count": 0,
      "outputs": []
    },
    {
      "cell_type": "markdown",
      "metadata": {
        "id": "rExUs2Co6WNK",
        "colab_type": "text"
      },
      "source": [
        "As before, it is a good idea to normalize the pixel values to the range 0 and 1 and one hot encode the output variables."
      ]
    },
    {
      "cell_type": "code",
      "metadata": {
        "id": "J4hqjmQy242k",
        "colab_type": "code",
        "colab": {}
      },
      "source": [
        "# normalize inputs from 0-255 to 0-1\n",
        "X_train = X_train / 255\n",
        "X_test = X_test / 255\n",
        "# one hot encode outputs\n",
        "y_train = np_utils.to_categorical(y_train)\n",
        "y_test = np_utils.to_categorical(y_test)\n",
        "num_classes = y_test.shape[1]"
      ],
      "execution_count": 0,
      "outputs": []
    },
    {
      "cell_type": "markdown",
      "metadata": {
        "id": "0NlZjm2s6bar",
        "colab_type": "text"
      },
      "source": [
        "Next we define our neural network model.\n",
        "\n",
        "Convolutional neural networks are more complex than standard multi-layer perceptrons, so we will start by using a simple structure to begin with that uses all of the elements for state of the art results. Below summarizes the network architecture.\n",
        "\n",
        "The first hidden layer is a convolutional layer called a Convolution2D. The layer has 32 feature maps, which with the size of 5×5 and a rectifier activation function. This is the input layer, expecting images with the structure outline above [pixels][width][height].\n",
        "Next we define a pooling layer that takes the max called MaxPooling2D. It is configured with a pool size of 2×2.\n",
        "The next layer is a regularization layer using dropout called Dropout. It is configured to randomly exclude 20% of neurons in the layer in order to reduce overfitting.\n",
        "Next is a layer that converts the 2D matrix data to a vector called Flatten. It allows the output to be processed by standard fully connected layers.\n",
        "Next a fully connected layer with 128 neurons and rectifier activation function.\n",
        "Finally, the output layer has 10 neurons for the 10 classes and a softmax activation function to output probability-like predictions for each class.\n",
        "As before, the model is trained using logarithmic loss and the ADAM gradient descent algorithm."
      ]
    },
    {
      "cell_type": "code",
      "metadata": {
        "id": "NZM7ddOM27eL",
        "colab_type": "code",
        "colab": {}
      },
      "source": [
        "def baseline_model():\n",
        "\t# create model\n",
        "\tmodel = Sequential()\n",
        "\tmodel.add(Conv2D(32, (5, 5), input_shape=(1, 28, 28), activation='relu'))\n",
        "\tmodel.add(MaxPooling2D(pool_size=(2, 2)))\n",
        "\tmodel.add(Dropout(0.2))\n",
        "\tmodel.add(Flatten())\n",
        "\tmodel.add(Dense(128, activation='relu'))\n",
        "\tmodel.add(Dense(num_classes, activation='softmax'))\n",
        "\t# Compile model\n",
        "\tmodel.compile(loss='categorical_crossentropy', optimizer='adam', metrics=['accuracy'])\n",
        "\treturn model"
      ],
      "execution_count": 0,
      "outputs": []
    },
    {
      "cell_type": "markdown",
      "metadata": {
        "id": "umimEQsT6cxz",
        "colab_type": "text"
      },
      "source": [
        "We evaluate the model the same way as before with the multi-layer perceptron. The CNN is fit over 10 epochs with a batch size of 200."
      ]
    },
    {
      "cell_type": "code",
      "metadata": {
        "id": "60g0_hQ33NY-",
        "colab_type": "code",
        "colab": {
          "base_uri": "https://localhost:8080/",
          "height": 714
        },
        "outputId": "b3347bcf-293b-4f96-8a49-0aa8927e1f86"
      },
      "source": [
        "# build the model\n",
        "model = baseline_model()\n",
        "model.summary()\n",
        "# Fit the model\n",
        "model.fit(X_train, y_train, validation_data=(X_test, y_test), epochs=10, batch_size=200, verbose=2)\n",
        "# Final evaluation of the model\n",
        "scores = model.evaluate(X_test, y_test, verbose=0)\n",
        "print(\"CNN Error: %.2f%%\" % (100-scores[1]*100))"
      ],
      "execution_count": 39,
      "outputs": [
        {
          "output_type": "stream",
          "text": [
            "_________________________________________________________________\n",
            "Layer (type)                 Output Shape              Param #   \n",
            "=================================================================\n",
            "conv2d_6 (Conv2D)            (None, 32, 24, 24)        832       \n",
            "_________________________________________________________________\n",
            "max_pooling2d_6 (MaxPooling2 (None, 32, 12, 12)        0         \n",
            "_________________________________________________________________\n",
            "dropout_4 (Dropout)          (None, 32, 12, 12)        0         \n",
            "_________________________________________________________________\n",
            "flatten_4 (Flatten)          (None, 4608)              0         \n",
            "_________________________________________________________________\n",
            "dense_13 (Dense)             (None, 128)               589952    \n",
            "_________________________________________________________________\n",
            "dense_14 (Dense)             (None, 10)                1290      \n",
            "=================================================================\n",
            "Total params: 592,074\n",
            "Trainable params: 592,074\n",
            "Non-trainable params: 0\n",
            "_________________________________________________________________\n",
            "Train on 60000 samples, validate on 10000 samples\n",
            "Epoch 1/10\n",
            " - 2s - loss: 0.2225 - acc: 0.9366 - val_loss: 0.0793 - val_acc: 0.9752\n",
            "Epoch 2/10\n",
            " - 2s - loss: 0.0714 - acc: 0.9787 - val_loss: 0.0458 - val_acc: 0.9843\n",
            "Epoch 3/10\n",
            " - 2s - loss: 0.0511 - acc: 0.9843 - val_loss: 0.0449 - val_acc: 0.9852\n",
            "Epoch 4/10\n",
            " - 2s - loss: 0.0390 - acc: 0.9879 - val_loss: 0.0412 - val_acc: 0.9874\n",
            "Epoch 5/10\n",
            " - 2s - loss: 0.0325 - acc: 0.9898 - val_loss: 0.0357 - val_acc: 0.9884\n",
            "Epoch 6/10\n",
            " - 2s - loss: 0.0268 - acc: 0.9916 - val_loss: 0.0327 - val_acc: 0.9886\n",
            "Epoch 7/10\n",
            " - 2s - loss: 0.0220 - acc: 0.9929 - val_loss: 0.0357 - val_acc: 0.9877\n",
            "Epoch 8/10\n",
            " - 2s - loss: 0.0190 - acc: 0.9941 - val_loss: 0.0339 - val_acc: 0.9886\n",
            "Epoch 9/10\n",
            " - 2s - loss: 0.0156 - acc: 0.9951 - val_loss: 0.0322 - val_acc: 0.9890\n",
            "Epoch 10/10\n",
            " - 2s - loss: 0.0141 - acc: 0.9958 - val_loss: 0.0317 - val_acc: 0.9893\n",
            "CNN Error: 1.07%\n"
          ],
          "name": "stdout"
        }
      ]
    },
    {
      "cell_type": "markdown",
      "metadata": {
        "id": "HywV_c2U3TAD",
        "colab_type": "text"
      },
      "source": [
        "# Larger CNN"
      ]
    },
    {
      "cell_type": "markdown",
      "metadata": {
        "id": "mDW9b4266tj2",
        "colab_type": "text"
      },
      "source": [
        "Now that we have seen how to create a simple CNN, let’s take a look at a model capable of close to state of the art results.\n",
        "\n",
        "We import classes and function then load and prepare the data the same as in the previous CNN example."
      ]
    },
    {
      "cell_type": "code",
      "metadata": {
        "id": "_mgTbAzT3ULy",
        "colab_type": "code",
        "colab": {}
      },
      "source": [
        "# Larger CNN for the MNIST Dataset\n",
        "import numpy\n",
        "from keras.datasets import mnist\n",
        "from keras.models import Sequential\n",
        "from keras.layers import Dense\n",
        "from keras.layers import Dropout\n",
        "from keras.layers import Flatten\n",
        "from keras.layers.convolutional import Conv2D\n",
        "from keras.layers.convolutional import MaxPooling2D\n",
        "from keras.utils import np_utils\n",
        "from keras import backend as K\n",
        "K.set_image_dim_ordering('th')\n",
        "# fix random seed for reproducibility\n",
        "seed = 7\n",
        "numpy.random.seed(seed)\n",
        "# load data\n",
        "(X_train, y_train), (X_test, y_test) = mnist.load_data()\n",
        "# reshape to be [samples][pixels][width][height]\n",
        "X_train = X_train.reshape(X_train.shape[0], 1, 28, 28).astype('float32')\n",
        "X_test = X_test.reshape(X_test.shape[0], 1, 28, 28).astype('float32')\n",
        "# normalize inputs from 0-255 to 0-1\n",
        "X_train = X_train / 255\n",
        "X_test = X_test / 255\n",
        "# one hot encode outputs\n",
        "y_train = np_utils.to_categorical(y_train)\n",
        "y_test = np_utils.to_categorical(y_test)\n",
        "num_classes = y_test.shape[1]"
      ],
      "execution_count": 0,
      "outputs": []
    },
    {
      "cell_type": "markdown",
      "metadata": {
        "id": "sNMZMJFr6y55",
        "colab_type": "text"
      },
      "source": [
        "This time we define a large CNN architecture with additional convolutional, max pooling layers and fully connected layers. The network topology can be summarized as follows.\n",
        "\n",
        "Convolutional layer with 30 feature maps of size 5×5.\n",
        "Pooling layer taking the max over 2*2 patches.\n",
        "Convolutional layer with 15 feature maps of size 3×3.\n",
        "Pooling layer taking the max over 2*2 patches.\n",
        "Dropout layer with a probability of 20%.\n",
        "Flatten layer.\n",
        "Fully connected layer with 128 neurons and rectifier activation.\n",
        "Fully connected layer with 50 neurons and rectifier activation.\n",
        "Output layer."
      ]
    },
    {
      "cell_type": "code",
      "metadata": {
        "id": "GJqgCeZ53XXD",
        "colab_type": "code",
        "colab": {}
      },
      "source": [
        "# define the larger model\n",
        "def larger_model():\n",
        "\t# create model\n",
        "\tmodel = Sequential()\n",
        "\tmodel.add(Conv2D(30, (5, 5), input_shape=(1, 28, 28), activation='relu'))\n",
        "\tmodel.add(MaxPooling2D(pool_size=(2, 2)))\n",
        "\tmodel.add(Conv2D(15, (3, 3), activation='relu'))\n",
        "\tmodel.add(MaxPooling2D(pool_size=(2, 2)))\n",
        "\tmodel.add(Dropout(0.2))\n",
        "\tmodel.add(Flatten())\n",
        "\tmodel.add(Dense(128, activation='relu'))\n",
        "\tmodel.add(Dense(50, activation='relu'))\n",
        "\tmodel.add(Dense(num_classes, activation='softmax'))\n",
        "\t# Compile model\n",
        "\tmodel.compile(loss='categorical_crossentropy', optimizer='adam', metrics=['accuracy'])\n",
        "\treturn model"
      ],
      "execution_count": 0,
      "outputs": []
    },
    {
      "cell_type": "markdown",
      "metadata": {
        "id": "uNERq7q3668T",
        "colab_type": "text"
      },
      "source": [
        "Like the previous two experiments, the model is fit over 10 epochs with a batch size of 200."
      ]
    },
    {
      "cell_type": "code",
      "metadata": {
        "id": "X5T-MRtY3a3S",
        "colab_type": "code",
        "colab": {
          "base_uri": "https://localhost:8080/",
          "height": 816
        },
        "outputId": "f9582fca-c5a6-40d4-b93b-0b1b0c43b041"
      },
      "source": [
        "# build the model\n",
        "model = larger_model()\n",
        "model.summary()\n",
        "# Fit the model\n",
        "model.fit(X_train, y_train, validation_data=(X_test, y_test), epochs=10, batch_size=200)\n",
        "# Final evaluation of the model\n",
        "scores = model.evaluate(X_test, y_test, verbose=0)\n",
        "print(\"Large CNN Error: %.2f%%\" % (100-scores[1]*100))"
      ],
      "execution_count": 42,
      "outputs": [
        {
          "output_type": "stream",
          "text": [
            "_________________________________________________________________\n",
            "Layer (type)                 Output Shape              Param #   \n",
            "=================================================================\n",
            "conv2d_7 (Conv2D)            (None, 30, 24, 24)        780       \n",
            "_________________________________________________________________\n",
            "max_pooling2d_7 (MaxPooling2 (None, 30, 12, 12)        0         \n",
            "_________________________________________________________________\n",
            "conv2d_8 (Conv2D)            (None, 15, 10, 10)        4065      \n",
            "_________________________________________________________________\n",
            "max_pooling2d_8 (MaxPooling2 (None, 15, 5, 5)          0         \n",
            "_________________________________________________________________\n",
            "dropout_5 (Dropout)          (None, 15, 5, 5)          0         \n",
            "_________________________________________________________________\n",
            "flatten_5 (Flatten)          (None, 375)               0         \n",
            "_________________________________________________________________\n",
            "dense_15 (Dense)             (None, 128)               48128     \n",
            "_________________________________________________________________\n",
            "dense_16 (Dense)             (None, 50)                6450      \n",
            "_________________________________________________________________\n",
            "dense_17 (Dense)             (None, 10)                510       \n",
            "=================================================================\n",
            "Total params: 59,933\n",
            "Trainable params: 59,933\n",
            "Non-trainable params: 0\n",
            "_________________________________________________________________\n",
            "Train on 60000 samples, validate on 10000 samples\n",
            "Epoch 1/10\n",
            "60000/60000 [==============================] - 3s 45us/step - loss: 0.3859 - acc: 0.8824 - val_loss: 0.0881 - val_acc: 0.9717\n",
            "Epoch 2/10\n",
            "60000/60000 [==============================] - 2s 32us/step - loss: 0.0979 - acc: 0.9704 - val_loss: 0.0556 - val_acc: 0.9821\n",
            "Epoch 3/10\n",
            "60000/60000 [==============================] - 2s 32us/step - loss: 0.0716 - acc: 0.9779 - val_loss: 0.0423 - val_acc: 0.9872\n",
            "Epoch 4/10\n",
            "60000/60000 [==============================] - 2s 32us/step - loss: 0.0593 - acc: 0.9817 - val_loss: 0.0363 - val_acc: 0.9882\n",
            "Epoch 5/10\n",
            "60000/60000 [==============================] - 2s 32us/step - loss: 0.0509 - acc: 0.9840 - val_loss: 0.0339 - val_acc: 0.9894\n",
            "Epoch 6/10\n",
            "60000/60000 [==============================] - 2s 32us/step - loss: 0.0438 - acc: 0.9859 - val_loss: 0.0283 - val_acc: 0.9913\n",
            "Epoch 7/10\n",
            "60000/60000 [==============================] - 2s 32us/step - loss: 0.0383 - acc: 0.9879 - val_loss: 0.0294 - val_acc: 0.9901\n",
            "Epoch 8/10\n",
            "60000/60000 [==============================] - 2s 32us/step - loss: 0.0353 - acc: 0.9887 - val_loss: 0.0260 - val_acc: 0.9919\n",
            "Epoch 9/10\n",
            "60000/60000 [==============================] - 2s 32us/step - loss: 0.0325 - acc: 0.9897 - val_loss: 0.0243 - val_acc: 0.9924\n",
            "Epoch 10/10\n",
            "60000/60000 [==============================] - 2s 32us/step - loss: 0.0304 - acc: 0.9904 - val_loss: 0.0273 - val_acc: 0.9911\n",
            "Large CNN Error: 0.89%\n"
          ],
          "name": "stdout"
        }
      ]
    },
    {
      "cell_type": "markdown",
      "metadata": {
        "id": "EycjQFY56_u_",
        "colab_type": "text"
      },
      "source": [
        "##### Reference: https://machinelearningmastery.com/handwritten-digit-recognition-using-convolutional-neural-networks-python-keras/"
      ]
    }
  ]
}