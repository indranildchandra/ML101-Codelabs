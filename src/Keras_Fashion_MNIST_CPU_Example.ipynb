{
  "nbformat": 4,
  "nbformat_minor": 0,
  "metadata": {
    "colab": {
      "name": "Keras Fashion MNIST CPU Example",
      "version": "0.3.2",
      "provenance": [],
      "collapsed_sections": [],
      "include_colab_link": true
    },
    "kernelspec": {
      "name": "python3",
      "display_name": "Python 3"
    }
  },
  "cells": [
    {
      "cell_type": "markdown",
      "metadata": {
        "id": "view-in-github",
        "colab_type": "text"
      },
      "source": [
        "<a href=\"https://colab.research.google.com/github/indranildchandra/ML101-Codelabs/blob/master/src/Keras_Fashion_MNIST_CPU_Example.ipynb\" target=\"_parent\"><img src=\"https://colab.research.google.com/assets/colab-badge.svg\" alt=\"Open In Colab\"/></a>"
      ]
    },
    {
      "metadata": {
        "id": "xdHrJctkrH9U",
        "colab_type": "code",
        "colab": {}
      },
      "cell_type": "code",
      "source": [
        "%%capture\n",
        "!pip install watermark"
      ],
      "execution_count": 0,
      "outputs": []
    },
    {
      "metadata": {
        "id": "conjYMPerLfW",
        "colab_type": "code",
        "outputId": "53ad5d39-3220-4362-daf3-1ab872c7eff4",
        "colab": {
          "base_uri": "https://localhost:8080/",
          "height": 187
        }
      },
      "cell_type": "code",
      "source": [
        "%load_ext watermark\n",
        "%watermark -p tensorflow,numpy -m"
      ],
      "execution_count": 2,
      "outputs": [
        {
          "output_type": "stream",
          "text": [
            "tensorflow 1.12.0\n",
            "numpy 1.14.6\n",
            "\n",
            "compiler   : GCC 8.2.0\n",
            "system     : Linux\n",
            "release    : 4.14.79+\n",
            "machine    : x86_64\n",
            "processor  : x86_64\n",
            "CPU cores  : 2\n",
            "interpreter: 64bit\n"
          ],
          "name": "stdout"
        }
      ]
    },
    {
      "metadata": {
        "id": "5P9ue5OK7jKG",
        "colab_type": "text"
      },
      "cell_type": "markdown",
      "source": [
        "(Adapted from https://github.com/tensorflow/tpu/blob/master/tools/colab/fashion_mnist.ipynb)"
      ]
    },
    {
      "metadata": {
        "id": "Ot79jiI7GiHR",
        "colab_type": "text"
      },
      "cell_type": "markdown",
      "source": [
        "# Fashion MNIST with Keras and CPU\n",
        "\n",
        "First, let's grab our dataset using `tf.keras.datasets`."
      ]
    },
    {
      "metadata": {
        "id": "Zo-Yk6LFGfSf",
        "colab_type": "code",
        "colab": {}
      },
      "cell_type": "code",
      "source": [
        "import os\n",
        "\n",
        "import tensorflow as tf\n",
        "import numpy as np\n",
        "import pandas as pd\n",
        "from sklearn.model_selection import StratifiedShuffleSplit\n",
        "\n",
        "(x_train, y_train), (x_test, y_test) = tf.keras.datasets.fashion_mnist.load_data()\n",
        "\n",
        "# add empty color dimension\n",
        "x_train = np.expand_dims(x_train, -1)\n",
        "x_test = np.expand_dims(x_test, -1)"
      ],
      "execution_count": 0,
      "outputs": []
    },
    {
      "metadata": {
        "id": "bIBg5cUtso-o",
        "colab_type": "text"
      },
      "cell_type": "markdown",
      "source": [
        "Value distribution of X:"
      ]
    },
    {
      "metadata": {
        "id": "4OMHWt6osCz3",
        "colab_type": "code",
        "outputId": "0aac67bc-ca34-4fc8-c27a-3ce78ff68b42",
        "colab": {
          "base_uri": "https://localhost:8080/",
          "height": 170
        }
      },
      "cell_type": "code",
      "source": [
        "pd.set_option('display.float_format', lambda x: '%.3f' % x)\n",
        "pd.Series(x_train.reshape(-1)).describe()"
      ],
      "execution_count": 4,
      "outputs": [
        {
          "output_type": "execute_result",
          "data": {
            "text/plain": [
              "count   47040000.000\n",
              "mean          72.940\n",
              "std           90.021\n",
              "min            0.000\n",
              "25%            0.000\n",
              "50%            0.000\n",
              "75%          163.000\n",
              "max          255.000\n",
              "dtype: float64"
            ]
          },
          "metadata": {
            "tags": []
          },
          "execution_count": 4
        }
      ]
    },
    {
      "metadata": {
        "id": "1C-WcdnNsyFU",
        "colab_type": "text"
      },
      "cell_type": "markdown",
      "source": [
        "Value distribution of Y:\n"
      ]
    },
    {
      "metadata": {
        "id": "MCOsHdxEsjQD",
        "colab_type": "code",
        "outputId": "f73523e6-3fd6-4abb-d84e-71eafdfa372b",
        "colab": {
          "base_uri": "https://localhost:8080/",
          "height": 170
        }
      },
      "cell_type": "code",
      "source": [
        "pd.Series(y_train.reshape(-1)).describe()"
      ],
      "execution_count": 5,
      "outputs": [
        {
          "output_type": "execute_result",
          "data": {
            "text/plain": [
              "count   60000.000\n",
              "mean        4.500\n",
              "std         2.872\n",
              "min         0.000\n",
              "25%         2.000\n",
              "50%         4.500\n",
              "75%         7.000\n",
              "max         9.000\n",
              "dtype: float64"
            ]
          },
          "metadata": {
            "tags": []
          },
          "execution_count": 5
        }
      ]
    },
    {
      "metadata": {
        "id": "Lx_VvBFNxHsr",
        "colab_type": "text"
      },
      "cell_type": "markdown",
      "source": [
        "### Create a validation set"
      ]
    },
    {
      "metadata": {
        "id": "flkZMTP7xGvc",
        "colab_type": "code",
        "outputId": "b6848d6a-c747-4229-f2d6-82d1606ca058",
        "colab": {
          "base_uri": "https://localhost:8080/",
          "height": 34
        }
      },
      "cell_type": "code",
      "source": [
        "sss = StratifiedShuffleSplit(n_splits=5, random_state=0, test_size=1/6)\n",
        "train_index, valid_index = next(sss.split(x_train, y_train))\n",
        "x_valid, y_valid = x_train[valid_index], y_train[valid_index]\n",
        "x_train, y_train = x_train[train_index], y_train[train_index]\n",
        "print(x_train.shape, x_valid.shape, x_test.shape)"
      ],
      "execution_count": 6,
      "outputs": [
        {
          "output_type": "stream",
          "text": [
            "(50000, 28, 28, 1) (10000, 28, 28, 1) (10000, 28, 28, 1)\n"
          ],
          "name": "stdout"
        }
      ]
    },
    {
      "metadata": {
        "id": "Hgc2FZKVMx15",
        "colab_type": "text"
      },
      "cell_type": "markdown",
      "source": [
        "# Defining our model\n",
        "\n",
        "We will use a standard conv-net for this example.  We have 3 layers with drop-out and batch normalization between each layer."
      ]
    },
    {
      "metadata": {
        "id": "W7gMbs70GxA7",
        "colab_type": "code",
        "outputId": "7f604292-8443-4d54-c5b7-5d966fedd8dc",
        "colab": {
          "base_uri": "https://localhost:8080/",
          "height": 748
        }
      },
      "cell_type": "code",
      "source": [
        "model = tf.keras.models.Sequential()\n",
        "model.add(tf.keras.layers.BatchNormalization(input_shape=x_train.shape[1:]))\n",
        "model.add(tf.keras.layers.Conv2D(64, (5, 5), padding='same', activation='elu'))\n",
        "model.add(tf.keras.layers.MaxPooling2D(pool_size=(2, 2), strides=(2,2)))\n",
        "model.add(tf.keras.layers.Dropout(0.25))\n",
        "\n",
        "model.add(tf.keras.layers.BatchNormalization(input_shape=x_train.shape[1:]))\n",
        "model.add(tf.keras.layers.Conv2D(128, (5, 5), padding='same', activation='elu'))\n",
        "model.add(tf.keras.layers.MaxPooling2D(pool_size=(2, 2)))\n",
        "model.add(tf.keras.layers.Dropout(0.25))\n",
        "\n",
        "model.add(tf.keras.layers.BatchNormalization(input_shape=x_train.shape[1:]))\n",
        "model.add(tf.keras.layers.Conv2D(256, (5, 5), padding='same', activation='elu'))\n",
        "model.add(tf.keras.layers.MaxPooling2D(pool_size=(2, 2), strides=(2,2)))\n",
        "model.add(tf.keras.layers.Dropout(0.25))\n",
        "\n",
        "model.add(tf.keras.layers.Flatten())\n",
        "model.add(tf.keras.layers.Dense(256))\n",
        "model.add(tf.keras.layers.Activation('elu'))\n",
        "model.add(tf.keras.layers.Dropout(0.5))\n",
        "model.add(tf.keras.layers.Dense(10))\n",
        "model.add(tf.keras.layers.Activation('softmax'))\n",
        "model.summary()"
      ],
      "execution_count": 7,
      "outputs": [
        {
          "output_type": "stream",
          "text": [
            "_________________________________________________________________\n",
            "Layer (type)                 Output Shape              Param #   \n",
            "=================================================================\n",
            "batch_normalization (BatchNo (None, 28, 28, 1)         4         \n",
            "_________________________________________________________________\n",
            "conv2d (Conv2D)              (None, 28, 28, 64)        1664      \n",
            "_________________________________________________________________\n",
            "max_pooling2d (MaxPooling2D) (None, 14, 14, 64)        0         \n",
            "_________________________________________________________________\n",
            "dropout (Dropout)            (None, 14, 14, 64)        0         \n",
            "_________________________________________________________________\n",
            "batch_normalization_1 (Batch (None, 14, 14, 64)        256       \n",
            "_________________________________________________________________\n",
            "conv2d_1 (Conv2D)            (None, 14, 14, 128)       204928    \n",
            "_________________________________________________________________\n",
            "max_pooling2d_1 (MaxPooling2 (None, 7, 7, 128)         0         \n",
            "_________________________________________________________________\n",
            "dropout_1 (Dropout)          (None, 7, 7, 128)         0         \n",
            "_________________________________________________________________\n",
            "batch_normalization_2 (Batch (None, 7, 7, 128)         512       \n",
            "_________________________________________________________________\n",
            "conv2d_2 (Conv2D)            (None, 7, 7, 256)         819456    \n",
            "_________________________________________________________________\n",
            "max_pooling2d_2 (MaxPooling2 (None, 3, 3, 256)         0         \n",
            "_________________________________________________________________\n",
            "dropout_2 (Dropout)          (None, 3, 3, 256)         0         \n",
            "_________________________________________________________________\n",
            "flatten (Flatten)            (None, 2304)              0         \n",
            "_________________________________________________________________\n",
            "dense (Dense)                (None, 256)               590080    \n",
            "_________________________________________________________________\n",
            "activation (Activation)      (None, 256)               0         \n",
            "_________________________________________________________________\n",
            "dropout_3 (Dropout)          (None, 256)               0         \n",
            "_________________________________________________________________\n",
            "dense_1 (Dense)              (None, 10)                2570      \n",
            "_________________________________________________________________\n",
            "activation_1 (Activation)    (None, 10)                0         \n",
            "=================================================================\n",
            "Total params: 1,619,470\n",
            "Trainable params: 1,619,084\n",
            "Non-trainable params: 386\n",
            "_________________________________________________________________\n"
          ],
          "name": "stdout"
        }
      ]
    },
    {
      "metadata": {
        "id": "xLeZATVaNAnE",
        "colab_type": "text"
      },
      "cell_type": "markdown",
      "source": [
        "# Training on the CPU\n",
        "\n",
        "Here we demonstrate that we can use a generator function and `fit_generator` to train the model.  You can also pass in `x_train` and `y_train` to `tpu_model.fit()` instead."
      ]
    },
    {
      "metadata": {
        "id": "pWEYmd_hIWg8",
        "colab_type": "code",
        "colab": {}
      },
      "cell_type": "code",
      "source": [
        "model.compile(\n",
        "    optimizer=tf.train.AdamOptimizer(learning_rate=1e-3, ),\n",
        "    loss=tf.keras.losses.sparse_categorical_crossentropy,\n",
        "    metrics=['sparse_categorical_accuracy']\n",
        ")"
      ],
      "execution_count": 0,
      "outputs": []
    },
    {
      "metadata": {
        "id": "V1Zf7QtDvJAU",
        "colab_type": "code",
        "outputId": "e93ab572-fe79-430b-e029-7e69b6df0fdc",
        "colab": {
          "base_uri": "https://localhost:8080/",
          "height": 581
        }
      },
      "cell_type": "code",
      "source": [
        "%%time\n",
        "def train_gen(batch_size):\n",
        "  while True:\n",
        "    offset = np.random.randint(0, x_train.shape[0] - batch_size)\n",
        "    yield x_train[offset:offset+batch_size], y_train[offset:offset + batch_size]\n",
        "    \n",
        "\n",
        "model.fit_generator(\n",
        "    train_gen(512),\n",
        "    epochs=15,\n",
        "    steps_per_epoch=100,\n",
        "    validation_data=(x_valid, y_valid)\n",
        ")"
      ],
      "execution_count": 9,
      "outputs": [
        {
          "output_type": "stream",
          "text": [
            "Epoch 1/15\n",
            "100/100 [==============================] - 757s 8s/step - loss: 1.2868 - sparse_categorical_accuracy: 0.6961 - val_loss: 3.0861 - val_sparse_categorical_accuracy: 0.3794\n",
            "Epoch 2/15\n",
            "100/100 [==============================] - 761s 8s/step - loss: 0.4757 - sparse_categorical_accuracy: 0.8411 - val_loss: 1.8269 - val_sparse_categorical_accuracy: 0.5311\n",
            "Epoch 3/15\n",
            "100/100 [==============================] - 759s 8s/step - loss: 0.4079 - sparse_categorical_accuracy: 0.8597 - val_loss: 0.7865 - val_sparse_categorical_accuracy: 0.7489\n",
            "Epoch 4/15\n",
            "100/100 [==============================] - 752s 8s/step - loss: 0.3461 - sparse_categorical_accuracy: 0.8796 - val_loss: 0.3527 - val_sparse_categorical_accuracy: 0.8702\n",
            "Epoch 5/15\n",
            "100/100 [==============================] - 754s 8s/step - loss: 0.3101 - sparse_categorical_accuracy: 0.8890 - val_loss: 0.2840 - val_sparse_categorical_accuracy: 0.8992\n",
            "Epoch 6/15\n",
            "100/100 [==============================] - 749s 7s/step - loss: 0.2796 - sparse_categorical_accuracy: 0.8992 - val_loss: 0.2570 - val_sparse_categorical_accuracy: 0.9077\n",
            "Epoch 7/15\n",
            "100/100 [==============================] - 754s 8s/step - loss: 0.2524 - sparse_categorical_accuracy: 0.9085 - val_loss: 0.2440 - val_sparse_categorical_accuracy: 0.9106\n",
            "Epoch 8/15\n",
            "100/100 [==============================] - 759s 8s/step - loss: 0.2369 - sparse_categorical_accuracy: 0.9138 - val_loss: 0.2476 - val_sparse_categorical_accuracy: 0.9115\n",
            "Epoch 9/15\n",
            "100/100 [==============================] - 781s 8s/step - loss: 0.2056 - sparse_categorical_accuracy: 0.9250 - val_loss: 0.2609 - val_sparse_categorical_accuracy: 0.9136\n",
            "Epoch 10/15\n",
            "100/100 [==============================] - 777s 8s/step - loss: 0.1990 - sparse_categorical_accuracy: 0.9274 - val_loss: 0.2208 - val_sparse_categorical_accuracy: 0.9208\n",
            "Epoch 11/15\n",
            "100/100 [==============================] - 776s 8s/step - loss: 0.1816 - sparse_categorical_accuracy: 0.9333 - val_loss: 0.2202 - val_sparse_categorical_accuracy: 0.9225\n",
            "Epoch 12/15\n",
            "100/100 [==============================] - 777s 8s/step - loss: 0.1741 - sparse_categorical_accuracy: 0.9351 - val_loss: 0.2276 - val_sparse_categorical_accuracy: 0.9229\n",
            "Epoch 13/15\n",
            "100/100 [==============================] - 771s 8s/step - loss: 0.1621 - sparse_categorical_accuracy: 0.9397 - val_loss: 0.2457 - val_sparse_categorical_accuracy: 0.9184\n",
            "Epoch 14/15\n",
            "100/100 [==============================] - 761s 8s/step - loss: 0.1564 - sparse_categorical_accuracy: 0.9413 - val_loss: 0.2221 - val_sparse_categorical_accuracy: 0.9203\n",
            "Epoch 15/15\n",
            "100/100 [==============================] - 760s 8s/step - loss: 0.1466 - sparse_categorical_accuracy: 0.9447 - val_loss: 0.2303 - val_sparse_categorical_accuracy: 0.9248\n",
            "CPU times: user 6h 8min 22s, sys: 4min 43s, total: 6h 13min 5s\n",
            "Wall time: 3h 10min 48s\n"
          ],
          "name": "stdout"
        }
      ]
    },
    {
      "metadata": {
        "id": "ESL6ltQTMm05",
        "colab_type": "text"
      },
      "cell_type": "markdown",
      "source": [
        "# Checking our results (inference)\n"
      ]
    },
    {
      "metadata": {
        "id": "SaYPv_aKId2d",
        "colab_type": "code",
        "outputId": "9c548304-1dca-44cd-fa85-8abf51c78edf",
        "colab": {
          "base_uri": "https://localhost:8080/",
          "height": 585
        }
      },
      "cell_type": "code",
      "source": [
        "LABEL_NAMES = ['t_shirt', 'trouser', 'pullover', 'dress', 'coat', 'sandal', 'shirt', 'sneaker', 'bag', 'ankle_boots']\n",
        "\n",
        "from matplotlib import pyplot\n",
        "%matplotlib inline\n",
        "\n",
        "def plot_predictions(images, predictions, true_labels):\n",
        "  n = images.shape[0]\n",
        "  nc = int(np.ceil(n / 4))\n",
        "  fig = pyplot.figure(figsize=(4,3))\n",
        "  # axes = fig.add_subplot(nc, 4)\n",
        "  f, axes = pyplot.subplots(nc, 4)\n",
        "  f.tight_layout()\n",
        "  for i in range(nc * 4):\n",
        "    y = i // 4\n",
        "    x = i % 4\n",
        "    axes[x, y].axis('off')\n",
        "    \n",
        "    label = LABEL_NAMES[np.argmax(predictions[i])]\n",
        "    confidence = np.max(predictions[i])\n",
        "    if i > n:\n",
        "      continue\n",
        "    axes[x, y].imshow(images[i])\n",
        "    pred_label = np.argmax(predictions[i])\n",
        "    axes[x, y].set_title(\"{} ({})\\n {:.3f}\".format(\n",
        "      LABEL_NAMES[pred_label], \n",
        "      LABEL_NAMES[true_labels[i]],\n",
        "      confidence\n",
        "    ), color=(\"green\" if true_labels[i] == pred_label else \"red\"))\n",
        "  pyplot.gcf().set_size_inches(8, 8)  \n",
        "\n",
        "plot_predictions(\n",
        "    np.squeeze(x_test[:16]), \n",
        "    model.predict(x_test[:16]),\n",
        "    y_test[:16]\n",
        ")"
      ],
      "execution_count": 10,
      "outputs": [
        {
          "output_type": "display_data",
          "data": {
            "text/plain": [
              "<Figure size 288x216 with 0 Axes>"
            ]
          },
          "metadata": {
            "tags": []
          }
        },
        {
          "output_type": "display_data",
          "data": {
            "image/png": "[encoded data removed]",
            "text/plain": [
              "<Figure size 576x576 with 16 Axes>"
            ]
          },
          "metadata": {
            "tags": []
          }
        }
      ]
    },
    {
      "metadata": {
        "id": "e0m_OqgFzAK6",
        "colab_type": "code",
        "outputId": "06057f97-dca3-42a2-c7d2-babcfcb5d6dc",
        "colab": {
          "base_uri": "https://localhost:8080/",
          "height": 85
        }
      },
      "cell_type": "code",
      "source": [
        "%%time\n",
        "# Evaluate the model on valid set\n",
        "score = model.evaluate(x_valid, y_valid, verbose=0)\n",
        "\n",
        "# Print test accuracy\n",
        "print('\\n', 'Valid accuracy:', score[1])"
      ],
      "execution_count": 11,
      "outputs": [
        {
          "output_type": "stream",
          "text": [
            "\n",
            " Valid accuracy: 0.9248\n",
            "CPU times: user 1min 7s, sys: 522 ms, total: 1min 8s\n",
            "Wall time: 34.9 s\n"
          ],
          "name": "stdout"
        }
      ]
    },
    {
      "metadata": {
        "id": "VgNcgjnMt6ER",
        "colab_type": "code",
        "outputId": "d812d64c-69c1-4efd-c837-781806146f57",
        "colab": {
          "base_uri": "https://localhost:8080/",
          "height": 85
        }
      },
      "cell_type": "code",
      "source": [
        "%%time\n",
        "# Evaluate the model on test set\n",
        "score = model.evaluate(x_test, y_test, verbose=0)\n",
        "\n",
        "# Print test accuracy\n",
        "print('\\n', 'Test accuracy:', score[1])"
      ],
      "execution_count": 12,
      "outputs": [
        {
          "output_type": "stream",
          "text": [
            "\n",
            " Test accuracy: 0.9188\n",
            "CPU times: user 1min 7s, sys: 553 ms, total: 1min 8s\n",
            "Wall time: 34.9 s\n"
          ],
          "name": "stdout"
        }
      ]
    }
  ]
}