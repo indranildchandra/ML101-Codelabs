{
  "nbformat": 4,
  "nbformat_minor": 0,
  "metadata": {
    "colab": {
      "name": "Handle_Missing_Values_Pandas_Example.ipynb",
      "version": "0.3.2",
      "provenance": [],
      "include_colab_link": true
    },
    "kernelspec": {
      "name": "python3",
      "display_name": "Python 3"
    }
  },
  "cells": [
    {
      "cell_type": "markdown",
      "metadata": {
        "id": "view-in-github",
        "colab_type": "text"
      },
      "source": [
        "<a href=\"https://colab.research.google.com/github/indranildchandra/ML101-Codelabs/blob/master/src/Handle_Missing_Values_Pandas_Example.ipynb\" target=\"_parent\"><img src=\"https://colab.research.google.com/assets/colab-badge.svg\" alt=\"Open In Colab\"/></a>"
      ]
    },
    {
      "metadata": {
        "id": "j4pwdq3aOWjv",
        "colab_type": "code",
        "colab": {}
      },
      "cell_type": "code",
      "source": [
        "import pandas as pd\n",
        "import numpy as np"
      ],
      "execution_count": 0,
      "outputs": []
    },
    {
      "metadata": {
        "id": "JJx_OOBaR7Mh",
        "colab_type": "text"
      },
      "cell_type": "markdown",
      "source": [
        "### Create a Dataset"
      ]
    },
    {
      "metadata": {
        "id": "UhofRmttOaIA",
        "colab_type": "code",
        "colab": {}
      },
      "cell_type": "code",
      "source": [
        "data = {\n",
        "    \"student_first_name\": [\"Ander\", np.nan, \"Scott\", \"Andreas\", \"Paul\"],\n",
        "    \"student_last_name\": [\"Herrera\", np.nan, \"McTominay\", \"Pereira\", \"Pogba\"],\n",
        "    \"student_age\": [21, np.nan, 39, 15, 6],\n",
        "    \"student_gender\": [\"M\", np.nan, \"M\", \"M\", \"F\"],\n",
        "    \"previous_sem_score\": [95, np.nan, np.nan, 85, 78],\n",
        "    \"current_sem_score\": [82, np.nan, np.nan, 68, 75]\n",
        "}"
      ],
      "execution_count": 0,
      "outputs": []
    },
    {
      "metadata": {
        "id": "gsGGq1iKQVi3",
        "colab_type": "code",
        "colab": {}
      },
      "cell_type": "code",
      "source": [
        "df = pd.DataFrame(\n",
        "      data, \n",
        "      columns=[\"student_first_name\", \"student_last_name\", \"student_age\", \"student_gender\", \"previous_sem_score\", \"current_sem_score\"]\n",
        "     )"
      ],
      "execution_count": 0,
      "outputs": []
    },
    {
      "metadata": {
        "id": "ZXW72P3nQvwz",
        "colab_type": "code",
        "colab": {
          "base_uri": "https://localhost:8080/",
          "height": 204
        },
        "outputId": "1b72b34c-ab59-4390-b6ec-cfe6065e0550"
      },
      "cell_type": "code",
      "source": [
        "df"
      ],
      "execution_count": 22,
      "outputs": [
        {
          "output_type": "execute_result",
          "data": {
            "text/html": [
              "<div>\n",
              "<style scoped>\n",
              "    .dataframe tbody tr th:only-of-type {\n",
              "        vertical-align: middle;\n",
              "    }\n",
              "\n",
              "    .dataframe tbody tr th {\n",
              "        vertical-align: top;\n",
              "    }\n",
              "\n",
              "    .dataframe thead th {\n",
              "        text-align: right;\n",
              "    }\n",
              "</style>\n",
              "<table border=\"1\" class=\"dataframe\">\n",
              "  <thead>\n",
              "    <tr style=\"text-align: right;\">\n",
              "      <th></th>\n",
              "      <th>student_first_name</th>\n",
              "      <th>student_last_name</th>\n",
              "      <th>student_age</th>\n",
              "      <th>student_gender</th>\n",
              "      <th>previous_sem_score</th>\n",
              "      <th>current_sem_score</th>\n",
              "    </tr>\n",
              "  </thead>\n",
              "  <tbody>\n",
              "    <tr>\n",
              "      <th>0</th>\n",
              "      <td>Ander</td>\n",
              "      <td>Herrera</td>\n",
              "      <td>21.0</td>\n",
              "      <td>M</td>\n",
              "      <td>95.0</td>\n",
              "      <td>82.0</td>\n",
              "    </tr>\n",
              "    <tr>\n",
              "      <th>1</th>\n",
              "      <td>NaN</td>\n",
              "      <td>NaN</td>\n",
              "      <td>NaN</td>\n",
              "      <td>NaN</td>\n",
              "      <td>NaN</td>\n",
              "      <td>NaN</td>\n",
              "    </tr>\n",
              "    <tr>\n",
              "      <th>2</th>\n",
              "      <td>Scott</td>\n",
              "      <td>McTominay</td>\n",
              "      <td>39.0</td>\n",
              "      <td>M</td>\n",
              "      <td>NaN</td>\n",
              "      <td>NaN</td>\n",
              "    </tr>\n",
              "    <tr>\n",
              "      <th>3</th>\n",
              "      <td>Andreas</td>\n",
              "      <td>Pereira</td>\n",
              "      <td>15.0</td>\n",
              "      <td>M</td>\n",
              "      <td>85.0</td>\n",
              "      <td>68.0</td>\n",
              "    </tr>\n",
              "    <tr>\n",
              "      <th>4</th>\n",
              "      <td>Paul</td>\n",
              "      <td>Pogba</td>\n",
              "      <td>6.0</td>\n",
              "      <td>F</td>\n",
              "      <td>78.0</td>\n",
              "      <td>75.0</td>\n",
              "    </tr>\n",
              "  </tbody>\n",
              "</table>\n",
              "</div>"
            ],
            "text/plain": [
              "  student_first_name student_last_name  student_age student_gender  \\\n",
              "0              Ander           Herrera         21.0              M   \n",
              "1                NaN               NaN          NaN            NaN   \n",
              "2              Scott         McTominay         39.0              M   \n",
              "3            Andreas           Pereira         15.0              M   \n",
              "4               Paul             Pogba          6.0              F   \n",
              "\n",
              "   previous_sem_score  current_sem_score  \n",
              "0                95.0               82.0  \n",
              "1                 NaN                NaN  \n",
              "2                 NaN                NaN  \n",
              "3                85.0               68.0  \n",
              "4                78.0               75.0  "
            ]
          },
          "metadata": {
            "tags": []
          },
          "execution_count": 22
        }
      ]
    },
    {
      "metadata": {
        "id": "eFtLGCkzQ6CL",
        "colab_type": "text"
      },
      "cell_type": "markdown",
      "source": [
        "### Drop rows with any missing value"
      ]
    },
    {
      "metadata": {
        "id": "DhArFP47Qyjw",
        "colab_type": "code",
        "colab": {
          "base_uri": "https://localhost:8080/",
          "height": 142
        },
        "outputId": "c5a1860a-3ef7-4788-a537-11f9a32f7fc6"
      },
      "cell_type": "code",
      "source": [
        "df_dropped_missing_values = df.dropna()\n",
        "df_dropped_missing_values"
      ],
      "execution_count": 23,
      "outputs": [
        {
          "output_type": "execute_result",
          "data": {
            "text/html": [
              "<div>\n",
              "<style scoped>\n",
              "    .dataframe tbody tr th:only-of-type {\n",
              "        vertical-align: middle;\n",
              "    }\n",
              "\n",
              "    .dataframe tbody tr th {\n",
              "        vertical-align: top;\n",
              "    }\n",
              "\n",
              "    .dataframe thead th {\n",
              "        text-align: right;\n",
              "    }\n",
              "</style>\n",
              "<table border=\"1\" class=\"dataframe\">\n",
              "  <thead>\n",
              "    <tr style=\"text-align: right;\">\n",
              "      <th></th>\n",
              "      <th>student_first_name</th>\n",
              "      <th>student_last_name</th>\n",
              "      <th>student_age</th>\n",
              "      <th>student_gender</th>\n",
              "      <th>previous_sem_score</th>\n",
              "      <th>current_sem_score</th>\n",
              "    </tr>\n",
              "  </thead>\n",
              "  <tbody>\n",
              "    <tr>\n",
              "      <th>0</th>\n",
              "      <td>Ander</td>\n",
              "      <td>Herrera</td>\n",
              "      <td>21.0</td>\n",
              "      <td>M</td>\n",
              "      <td>95.0</td>\n",
              "      <td>82.0</td>\n",
              "    </tr>\n",
              "    <tr>\n",
              "      <th>3</th>\n",
              "      <td>Andreas</td>\n",
              "      <td>Pereira</td>\n",
              "      <td>15.0</td>\n",
              "      <td>M</td>\n",
              "      <td>85.0</td>\n",
              "      <td>68.0</td>\n",
              "    </tr>\n",
              "    <tr>\n",
              "      <th>4</th>\n",
              "      <td>Paul</td>\n",
              "      <td>Pogba</td>\n",
              "      <td>6.0</td>\n",
              "      <td>F</td>\n",
              "      <td>78.0</td>\n",
              "      <td>75.0</td>\n",
              "    </tr>\n",
              "  </tbody>\n",
              "</table>\n",
              "</div>"
            ],
            "text/plain": [
              "  student_first_name student_last_name  student_age student_gender  \\\n",
              "0              Ander           Herrera         21.0              M   \n",
              "3            Andreas           Pereira         15.0              M   \n",
              "4               Paul             Pogba          6.0              F   \n",
              "\n",
              "   previous_sem_score  current_sem_score  \n",
              "0                95.0               82.0  \n",
              "3                85.0               68.0  \n",
              "4                78.0               75.0  "
            ]
          },
          "metadata": {
            "tags": []
          },
          "execution_count": 23
        }
      ]
    },
    {
      "metadata": {
        "id": "WonzZ2kURl7d",
        "colab_type": "text"
      },
      "cell_type": "markdown",
      "source": [
        "### Drop rows with all column entries with missing values"
      ]
    },
    {
      "metadata": {
        "id": "sQ0ArDTGRHTJ",
        "colab_type": "code",
        "colab": {
          "base_uri": "https://localhost:8080/",
          "height": 173
        },
        "outputId": "567c263c-b015-4966-e890-f76c3c4c066e"
      },
      "cell_type": "code",
      "source": [
        "df_cleaned = df.dropna(how='all')\n",
        "df_cleaned"
      ],
      "execution_count": 24,
      "outputs": [
        {
          "output_type": "execute_result",
          "data": {
            "text/html": [
              "<div>\n",
              "<style scoped>\n",
              "    .dataframe tbody tr th:only-of-type {\n",
              "        vertical-align: middle;\n",
              "    }\n",
              "\n",
              "    .dataframe tbody tr th {\n",
              "        vertical-align: top;\n",
              "    }\n",
              "\n",
              "    .dataframe thead th {\n",
              "        text-align: right;\n",
              "    }\n",
              "</style>\n",
              "<table border=\"1\" class=\"dataframe\">\n",
              "  <thead>\n",
              "    <tr style=\"text-align: right;\">\n",
              "      <th></th>\n",
              "      <th>student_first_name</th>\n",
              "      <th>student_last_name</th>\n",
              "      <th>student_age</th>\n",
              "      <th>student_gender</th>\n",
              "      <th>previous_sem_score</th>\n",
              "      <th>current_sem_score</th>\n",
              "    </tr>\n",
              "  </thead>\n",
              "  <tbody>\n",
              "    <tr>\n",
              "      <th>0</th>\n",
              "      <td>Ander</td>\n",
              "      <td>Herrera</td>\n",
              "      <td>21.0</td>\n",
              "      <td>M</td>\n",
              "      <td>95.0</td>\n",
              "      <td>82.0</td>\n",
              "    </tr>\n",
              "    <tr>\n",
              "      <th>2</th>\n",
              "      <td>Scott</td>\n",
              "      <td>McTominay</td>\n",
              "      <td>39.0</td>\n",
              "      <td>M</td>\n",
              "      <td>NaN</td>\n",
              "      <td>NaN</td>\n",
              "    </tr>\n",
              "    <tr>\n",
              "      <th>3</th>\n",
              "      <td>Andreas</td>\n",
              "      <td>Pereira</td>\n",
              "      <td>15.0</td>\n",
              "      <td>M</td>\n",
              "      <td>85.0</td>\n",
              "      <td>68.0</td>\n",
              "    </tr>\n",
              "    <tr>\n",
              "      <th>4</th>\n",
              "      <td>Paul</td>\n",
              "      <td>Pogba</td>\n",
              "      <td>6.0</td>\n",
              "      <td>F</td>\n",
              "      <td>78.0</td>\n",
              "      <td>75.0</td>\n",
              "    </tr>\n",
              "  </tbody>\n",
              "</table>\n",
              "</div>"
            ],
            "text/plain": [
              "  student_first_name student_last_name  student_age student_gender  \\\n",
              "0              Ander           Herrera         21.0              M   \n",
              "2              Scott         McTominay         39.0              M   \n",
              "3            Andreas           Pereira         15.0              M   \n",
              "4               Paul             Pogba          6.0              F   \n",
              "\n",
              "   previous_sem_score  current_sem_score  \n",
              "0                95.0               82.0  \n",
              "2                 NaN                NaN  \n",
              "3                85.0               68.0  \n",
              "4                78.0               75.0  "
            ]
          },
          "metadata": {
            "tags": []
          },
          "execution_count": 24
        }
      ]
    },
    {
      "metadata": {
        "id": "RSOgYdMYR0LR",
        "colab_type": "code",
        "colab": {
          "base_uri": "https://localhost:8080/",
          "height": 204
        },
        "outputId": "9ccee1f9-a198-4af9-806d-c4f52f62c2de"
      },
      "cell_type": "code",
      "source": [
        "df[\"address\"] = np.nan\n",
        "df"
      ],
      "execution_count": 25,
      "outputs": [
        {
          "output_type": "execute_result",
          "data": {
            "text/html": [
              "<div>\n",
              "<style scoped>\n",
              "    .dataframe tbody tr th:only-of-type {\n",
              "        vertical-align: middle;\n",
              "    }\n",
              "\n",
              "    .dataframe tbody tr th {\n",
              "        vertical-align: top;\n",
              "    }\n",
              "\n",
              "    .dataframe thead th {\n",
              "        text-align: right;\n",
              "    }\n",
              "</style>\n",
              "<table border=\"1\" class=\"dataframe\">\n",
              "  <thead>\n",
              "    <tr style=\"text-align: right;\">\n",
              "      <th></th>\n",
              "      <th>student_first_name</th>\n",
              "      <th>student_last_name</th>\n",
              "      <th>student_age</th>\n",
              "      <th>student_gender</th>\n",
              "      <th>previous_sem_score</th>\n",
              "      <th>current_sem_score</th>\n",
              "      <th>address</th>\n",
              "    </tr>\n",
              "  </thead>\n",
              "  <tbody>\n",
              "    <tr>\n",
              "      <th>0</th>\n",
              "      <td>Ander</td>\n",
              "      <td>Herrera</td>\n",
              "      <td>21.0</td>\n",
              "      <td>M</td>\n",
              "      <td>95.0</td>\n",
              "      <td>82.0</td>\n",
              "      <td>NaN</td>\n",
              "    </tr>\n",
              "    <tr>\n",
              "      <th>1</th>\n",
              "      <td>NaN</td>\n",
              "      <td>NaN</td>\n",
              "      <td>NaN</td>\n",
              "      <td>NaN</td>\n",
              "      <td>NaN</td>\n",
              "      <td>NaN</td>\n",
              "      <td>NaN</td>\n",
              "    </tr>\n",
              "    <tr>\n",
              "      <th>2</th>\n",
              "      <td>Scott</td>\n",
              "      <td>McTominay</td>\n",
              "      <td>39.0</td>\n",
              "      <td>M</td>\n",
              "      <td>NaN</td>\n",
              "      <td>NaN</td>\n",
              "      <td>NaN</td>\n",
              "    </tr>\n",
              "    <tr>\n",
              "      <th>3</th>\n",
              "      <td>Andreas</td>\n",
              "      <td>Pereira</td>\n",
              "      <td>15.0</td>\n",
              "      <td>M</td>\n",
              "      <td>85.0</td>\n",
              "      <td>68.0</td>\n",
              "      <td>NaN</td>\n",
              "    </tr>\n",
              "    <tr>\n",
              "      <th>4</th>\n",
              "      <td>Paul</td>\n",
              "      <td>Pogba</td>\n",
              "      <td>6.0</td>\n",
              "      <td>F</td>\n",
              "      <td>78.0</td>\n",
              "      <td>75.0</td>\n",
              "      <td>NaN</td>\n",
              "    </tr>\n",
              "  </tbody>\n",
              "</table>\n",
              "</div>"
            ],
            "text/plain": [
              "  student_first_name student_last_name  student_age student_gender  \\\n",
              "0              Ander           Herrera         21.0              M   \n",
              "1                NaN               NaN          NaN            NaN   \n",
              "2              Scott         McTominay         39.0              M   \n",
              "3            Andreas           Pereira         15.0              M   \n",
              "4               Paul             Pogba          6.0              F   \n",
              "\n",
              "   previous_sem_score  current_sem_score  address  \n",
              "0                95.0               82.0      NaN  \n",
              "1                 NaN                NaN      NaN  \n",
              "2                 NaN                NaN      NaN  \n",
              "3                85.0               68.0      NaN  \n",
              "4                78.0               75.0      NaN  "
            ]
          },
          "metadata": {
            "tags": []
          },
          "execution_count": 25
        }
      ]
    },
    {
      "metadata": {
        "id": "tlE3j1cuSVd3",
        "colab_type": "text"
      },
      "cell_type": "markdown",
      "source": [
        "### Drop columns with all missing values"
      ]
    },
    {
      "metadata": {
        "id": "VNskvAceSN8W",
        "colab_type": "code",
        "colab": {
          "base_uri": "https://localhost:8080/",
          "height": 204
        },
        "outputId": "0f1b6ce9-109a-4693-dd5a-1e64a640e19f"
      },
      "cell_type": "code",
      "source": [
        "df.dropna(axis=1, how='all')"
      ],
      "execution_count": 26,
      "outputs": [
        {
          "output_type": "execute_result",
          "data": {
            "text/html": [
              "<div>\n",
              "<style scoped>\n",
              "    .dataframe tbody tr th:only-of-type {\n",
              "        vertical-align: middle;\n",
              "    }\n",
              "\n",
              "    .dataframe tbody tr th {\n",
              "        vertical-align: top;\n",
              "    }\n",
              "\n",
              "    .dataframe thead th {\n",
              "        text-align: right;\n",
              "    }\n",
              "</style>\n",
              "<table border=\"1\" class=\"dataframe\">\n",
              "  <thead>\n",
              "    <tr style=\"text-align: right;\">\n",
              "      <th></th>\n",
              "      <th>student_first_name</th>\n",
              "      <th>student_last_name</th>\n",
              "      <th>student_age</th>\n",
              "      <th>student_gender</th>\n",
              "      <th>previous_sem_score</th>\n",
              "      <th>current_sem_score</th>\n",
              "    </tr>\n",
              "  </thead>\n",
              "  <tbody>\n",
              "    <tr>\n",
              "      <th>0</th>\n",
              "      <td>Ander</td>\n",
              "      <td>Herrera</td>\n",
              "      <td>21.0</td>\n",
              "      <td>M</td>\n",
              "      <td>95.0</td>\n",
              "      <td>82.0</td>\n",
              "    </tr>\n",
              "    <tr>\n",
              "      <th>1</th>\n",
              "      <td>NaN</td>\n",
              "      <td>NaN</td>\n",
              "      <td>NaN</td>\n",
              "      <td>NaN</td>\n",
              "      <td>NaN</td>\n",
              "      <td>NaN</td>\n",
              "    </tr>\n",
              "    <tr>\n",
              "      <th>2</th>\n",
              "      <td>Scott</td>\n",
              "      <td>McTominay</td>\n",
              "      <td>39.0</td>\n",
              "      <td>M</td>\n",
              "      <td>NaN</td>\n",
              "      <td>NaN</td>\n",
              "    </tr>\n",
              "    <tr>\n",
              "      <th>3</th>\n",
              "      <td>Andreas</td>\n",
              "      <td>Pereira</td>\n",
              "      <td>15.0</td>\n",
              "      <td>M</td>\n",
              "      <td>85.0</td>\n",
              "      <td>68.0</td>\n",
              "    </tr>\n",
              "    <tr>\n",
              "      <th>4</th>\n",
              "      <td>Paul</td>\n",
              "      <td>Pogba</td>\n",
              "      <td>6.0</td>\n",
              "      <td>F</td>\n",
              "      <td>78.0</td>\n",
              "      <td>75.0</td>\n",
              "    </tr>\n",
              "  </tbody>\n",
              "</table>\n",
              "</div>"
            ],
            "text/plain": [
              "  student_first_name student_last_name  student_age student_gender  \\\n",
              "0              Ander           Herrera         21.0              M   \n",
              "1                NaN               NaN          NaN            NaN   \n",
              "2              Scott         McTominay         39.0              M   \n",
              "3            Andreas           Pereira         15.0              M   \n",
              "4               Paul             Pogba          6.0              F   \n",
              "\n",
              "   previous_sem_score  current_sem_score  \n",
              "0                95.0               82.0  \n",
              "1                 NaN                NaN  \n",
              "2                 NaN                NaN  \n",
              "3                85.0               68.0  \n",
              "4                78.0               75.0  "
            ]
          },
          "metadata": {
            "tags": []
          },
          "execution_count": 26
        }
      ]
    },
    {
      "metadata": {
        "id": "2-itshZfSu5W",
        "colab_type": "text"
      },
      "cell_type": "markdown",
      "source": [
        "### Replace all NA values with 0"
      ]
    },
    {
      "metadata": {
        "id": "wa_RIbQeShhx",
        "colab_type": "code",
        "colab": {
          "base_uri": "https://localhost:8080/",
          "height": 204
        },
        "outputId": "1aafda4c-af96-4d20-8f63-346997424f87"
      },
      "cell_type": "code",
      "source": [
        "df.fillna(0)"
      ],
      "execution_count": 27,
      "outputs": [
        {
          "output_type": "execute_result",
          "data": {
            "text/html": [
              "<div>\n",
              "<style scoped>\n",
              "    .dataframe tbody tr th:only-of-type {\n",
              "        vertical-align: middle;\n",
              "    }\n",
              "\n",
              "    .dataframe tbody tr th {\n",
              "        vertical-align: top;\n",
              "    }\n",
              "\n",
              "    .dataframe thead th {\n",
              "        text-align: right;\n",
              "    }\n",
              "</style>\n",
              "<table border=\"1\" class=\"dataframe\">\n",
              "  <thead>\n",
              "    <tr style=\"text-align: right;\">\n",
              "      <th></th>\n",
              "      <th>student_first_name</th>\n",
              "      <th>student_last_name</th>\n",
              "      <th>student_age</th>\n",
              "      <th>student_gender</th>\n",
              "      <th>previous_sem_score</th>\n",
              "      <th>current_sem_score</th>\n",
              "      <th>address</th>\n",
              "    </tr>\n",
              "  </thead>\n",
              "  <tbody>\n",
              "    <tr>\n",
              "      <th>0</th>\n",
              "      <td>Ander</td>\n",
              "      <td>Herrera</td>\n",
              "      <td>21.0</td>\n",
              "      <td>M</td>\n",
              "      <td>95.0</td>\n",
              "      <td>82.0</td>\n",
              "      <td>0.0</td>\n",
              "    </tr>\n",
              "    <tr>\n",
              "      <th>1</th>\n",
              "      <td>0</td>\n",
              "      <td>0</td>\n",
              "      <td>0.0</td>\n",
              "      <td>0</td>\n",
              "      <td>0.0</td>\n",
              "      <td>0.0</td>\n",
              "      <td>0.0</td>\n",
              "    </tr>\n",
              "    <tr>\n",
              "      <th>2</th>\n",
              "      <td>Scott</td>\n",
              "      <td>McTominay</td>\n",
              "      <td>39.0</td>\n",
              "      <td>M</td>\n",
              "      <td>0.0</td>\n",
              "      <td>0.0</td>\n",
              "      <td>0.0</td>\n",
              "    </tr>\n",
              "    <tr>\n",
              "      <th>3</th>\n",
              "      <td>Andreas</td>\n",
              "      <td>Pereira</td>\n",
              "      <td>15.0</td>\n",
              "      <td>M</td>\n",
              "      <td>85.0</td>\n",
              "      <td>68.0</td>\n",
              "      <td>0.0</td>\n",
              "    </tr>\n",
              "    <tr>\n",
              "      <th>4</th>\n",
              "      <td>Paul</td>\n",
              "      <td>Pogba</td>\n",
              "      <td>6.0</td>\n",
              "      <td>F</td>\n",
              "      <td>78.0</td>\n",
              "      <td>75.0</td>\n",
              "      <td>0.0</td>\n",
              "    </tr>\n",
              "  </tbody>\n",
              "</table>\n",
              "</div>"
            ],
            "text/plain": [
              "  student_first_name student_last_name  student_age student_gender  \\\n",
              "0              Ander           Herrera         21.0              M   \n",
              "1                  0                 0          0.0              0   \n",
              "2              Scott         McTominay         39.0              M   \n",
              "3            Andreas           Pereira         15.0              M   \n",
              "4               Paul             Pogba          6.0              F   \n",
              "\n",
              "   previous_sem_score  current_sem_score  address  \n",
              "0                95.0               82.0      0.0  \n",
              "1                 0.0                0.0      0.0  \n",
              "2                 0.0                0.0      0.0  \n",
              "3                85.0               68.0      0.0  \n",
              "4                78.0               75.0      0.0  "
            ]
          },
          "metadata": {
            "tags": []
          },
          "execution_count": 27
        }
      ]
    },
    {
      "metadata": {
        "id": "LVtUaT1QS3-_",
        "colab_type": "text"
      },
      "cell_type": "markdown",
      "source": [
        "### Replace all NA values with mean value of the column"
      ]
    },
    {
      "metadata": {
        "id": "fQOE3rBQSzfb",
        "colab_type": "code",
        "colab": {
          "base_uri": "https://localhost:8080/",
          "height": 204
        },
        "outputId": "e51ca383-ce4a-4c99-c2bc-b5b2af2adb17"
      },
      "cell_type": "code",
      "source": [
        "df[\"previous_sem_score\"].fillna(df[\"previous_sem_score\"].mean(), inplace=True)\n",
        "df"
      ],
      "execution_count": 28,
      "outputs": [
        {
          "output_type": "execute_result",
          "data": {
            "text/html": [
              "<div>\n",
              "<style scoped>\n",
              "    .dataframe tbody tr th:only-of-type {\n",
              "        vertical-align: middle;\n",
              "    }\n",
              "\n",
              "    .dataframe tbody tr th {\n",
              "        vertical-align: top;\n",
              "    }\n",
              "\n",
              "    .dataframe thead th {\n",
              "        text-align: right;\n",
              "    }\n",
              "</style>\n",
              "<table border=\"1\" class=\"dataframe\">\n",
              "  <thead>\n",
              "    <tr style=\"text-align: right;\">\n",
              "      <th></th>\n",
              "      <th>student_first_name</th>\n",
              "      <th>student_last_name</th>\n",
              "      <th>student_age</th>\n",
              "      <th>student_gender</th>\n",
              "      <th>previous_sem_score</th>\n",
              "      <th>current_sem_score</th>\n",
              "      <th>address</th>\n",
              "    </tr>\n",
              "  </thead>\n",
              "  <tbody>\n",
              "    <tr>\n",
              "      <th>0</th>\n",
              "      <td>Ander</td>\n",
              "      <td>Herrera</td>\n",
              "      <td>21.0</td>\n",
              "      <td>M</td>\n",
              "      <td>95.0</td>\n",
              "      <td>82.0</td>\n",
              "      <td>NaN</td>\n",
              "    </tr>\n",
              "    <tr>\n",
              "      <th>1</th>\n",
              "      <td>NaN</td>\n",
              "      <td>NaN</td>\n",
              "      <td>NaN</td>\n",
              "      <td>NaN</td>\n",
              "      <td>86.0</td>\n",
              "      <td>NaN</td>\n",
              "      <td>NaN</td>\n",
              "    </tr>\n",
              "    <tr>\n",
              "      <th>2</th>\n",
              "      <td>Scott</td>\n",
              "      <td>McTominay</td>\n",
              "      <td>39.0</td>\n",
              "      <td>M</td>\n",
              "      <td>86.0</td>\n",
              "      <td>NaN</td>\n",
              "      <td>NaN</td>\n",
              "    </tr>\n",
              "    <tr>\n",
              "      <th>3</th>\n",
              "      <td>Andreas</td>\n",
              "      <td>Pereira</td>\n",
              "      <td>15.0</td>\n",
              "      <td>M</td>\n",
              "      <td>85.0</td>\n",
              "      <td>68.0</td>\n",
              "      <td>NaN</td>\n",
              "    </tr>\n",
              "    <tr>\n",
              "      <th>4</th>\n",
              "      <td>Paul</td>\n",
              "      <td>Pogba</td>\n",
              "      <td>6.0</td>\n",
              "      <td>F</td>\n",
              "      <td>78.0</td>\n",
              "      <td>75.0</td>\n",
              "      <td>NaN</td>\n",
              "    </tr>\n",
              "  </tbody>\n",
              "</table>\n",
              "</div>"
            ],
            "text/plain": [
              "  student_first_name student_last_name  student_age student_gender  \\\n",
              "0              Ander           Herrera         21.0              M   \n",
              "1                NaN               NaN          NaN            NaN   \n",
              "2              Scott         McTominay         39.0              M   \n",
              "3            Andreas           Pereira         15.0              M   \n",
              "4               Paul             Pogba          6.0              F   \n",
              "\n",
              "   previous_sem_score  current_sem_score  address  \n",
              "0                95.0               82.0      NaN  \n",
              "1                86.0                NaN      NaN  \n",
              "2                86.0                NaN      NaN  \n",
              "3                85.0               68.0      NaN  \n",
              "4                78.0               75.0      NaN  "
            ]
          },
          "metadata": {
            "tags": []
          },
          "execution_count": 28
        }
      ]
    },
    {
      "metadata": {
        "id": "Wou9Tg5XTji3",
        "colab_type": "text"
      },
      "cell_type": "markdown",
      "source": [
        "### Filter rows where age and gender is not null"
      ]
    },
    {
      "metadata": {
        "id": "4BTcSvNATWlt",
        "colab_type": "code",
        "colab": {
          "base_uri": "https://localhost:8080/",
          "height": 173
        },
        "outputId": "2e258a48-e194-4c0b-91d7-cebd279ab90e"
      },
      "cell_type": "code",
      "source": [
        "df[df[\"student_age\"].notnull() & df[\"student_gender\"].notnull()]"
      ],
      "execution_count": 29,
      "outputs": [
        {
          "output_type": "execute_result",
          "data": {
            "text/html": [
              "<div>\n",
              "<style scoped>\n",
              "    .dataframe tbody tr th:only-of-type {\n",
              "        vertical-align: middle;\n",
              "    }\n",
              "\n",
              "    .dataframe tbody tr th {\n",
              "        vertical-align: top;\n",
              "    }\n",
              "\n",
              "    .dataframe thead th {\n",
              "        text-align: right;\n",
              "    }\n",
              "</style>\n",
              "<table border=\"1\" class=\"dataframe\">\n",
              "  <thead>\n",
              "    <tr style=\"text-align: right;\">\n",
              "      <th></th>\n",
              "      <th>student_first_name</th>\n",
              "      <th>student_last_name</th>\n",
              "      <th>student_age</th>\n",
              "      <th>student_gender</th>\n",
              "      <th>previous_sem_score</th>\n",
              "      <th>current_sem_score</th>\n",
              "      <th>address</th>\n",
              "    </tr>\n",
              "  </thead>\n",
              "  <tbody>\n",
              "    <tr>\n",
              "      <th>0</th>\n",
              "      <td>Ander</td>\n",
              "      <td>Herrera</td>\n",
              "      <td>21.0</td>\n",
              "      <td>M</td>\n",
              "      <td>95.0</td>\n",
              "      <td>82.0</td>\n",
              "      <td>NaN</td>\n",
              "    </tr>\n",
              "    <tr>\n",
              "      <th>2</th>\n",
              "      <td>Scott</td>\n",
              "      <td>McTominay</td>\n",
              "      <td>39.0</td>\n",
              "      <td>M</td>\n",
              "      <td>86.0</td>\n",
              "      <td>NaN</td>\n",
              "      <td>NaN</td>\n",
              "    </tr>\n",
              "    <tr>\n",
              "      <th>3</th>\n",
              "      <td>Andreas</td>\n",
              "      <td>Pereira</td>\n",
              "      <td>15.0</td>\n",
              "      <td>M</td>\n",
              "      <td>85.0</td>\n",
              "      <td>68.0</td>\n",
              "      <td>NaN</td>\n",
              "    </tr>\n",
              "    <tr>\n",
              "      <th>4</th>\n",
              "      <td>Paul</td>\n",
              "      <td>Pogba</td>\n",
              "      <td>6.0</td>\n",
              "      <td>F</td>\n",
              "      <td>78.0</td>\n",
              "      <td>75.0</td>\n",
              "      <td>NaN</td>\n",
              "    </tr>\n",
              "  </tbody>\n",
              "</table>\n",
              "</div>"
            ],
            "text/plain": [
              "  student_first_name student_last_name  student_age student_gender  \\\n",
              "0              Ander           Herrera         21.0              M   \n",
              "2              Scott         McTominay         39.0              M   \n",
              "3            Andreas           Pereira         15.0              M   \n",
              "4               Paul             Pogba          6.0              F   \n",
              "\n",
              "   previous_sem_score  current_sem_score  address  \n",
              "0                95.0               82.0      NaN  \n",
              "2                86.0                NaN      NaN  \n",
              "3                85.0               68.0      NaN  \n",
              "4                78.0               75.0      NaN  "
            ]
          },
          "metadata": {
            "tags": []
          },
          "execution_count": 29
        }
      ]
    }
  ]
}