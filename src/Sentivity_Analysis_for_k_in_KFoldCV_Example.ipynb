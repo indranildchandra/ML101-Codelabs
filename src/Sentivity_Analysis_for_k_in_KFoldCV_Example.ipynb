{
  "nbformat": 4,
  "nbformat_minor": 0,
  "metadata": {
    "colab": {
      "name": "Sentivity_Analysis_for_k_in_KFoldCV_Example.ipynb",
      "provenance": [],
      "collapsed_sections": [],
      "authorship_tag": "ABX9TyNLvk7EAHW4dd7JFnQr5gyw",
      "include_colab_link": true
    },
    "kernelspec": {
      "name": "python3",
      "display_name": "Python 3"
    }
  },
  "cells": [
    {
      "cell_type": "markdown",
      "metadata": {
        "id": "view-in-github",
        "colab_type": "text"
      },
      "source": [
        "<a href=\"https://colab.research.google.com/github/indranildchandra/ML101-Codelabs/blob/master/src/Sentivity_Analysis_for_k_in_KFoldCV_Example.ipynb\" target=\"_parent\"><img src=\"https://colab.research.google.com/assets/colab-badge.svg\" alt=\"Open In Colab\"/></a>"
      ]
    },
    {
      "cell_type": "markdown",
      "metadata": {
        "id": "MLNuCtc07fmV",
        "colab_type": "text"
      },
      "source": [
        "### Reference - [ML Mastery Blog](https://machinelearningmastery.com/how-to-configure-k-fold-cross-validation/)"
      ]
    },
    {
      "cell_type": "markdown",
      "metadata": {
        "id": "jordkhs18_DP",
        "colab_type": "text"
      },
      "source": [
        "# Sensitivity analysis of k in k-fold cross-validation"
      ]
    },
    {
      "cell_type": "code",
      "metadata": {
        "id": "aAFLgZEZ7Vh0",
        "colab_type": "code",
        "colab": {}
      },
      "source": [
        "# sensitivity analysis of k in k-fold cross-validation\n",
        "from numpy import mean\n",
        "from numpy import isnan\n",
        "from numpy import asarray\n",
        "from numpy import polyfit\n",
        "from scipy.stats import pearsonr\n",
        "from matplotlib import pyplot\n",
        "from sklearn.datasets import make_classification\n",
        "from sklearn.model_selection import KFold\n",
        "from sklearn.model_selection import LeaveOneOut\n",
        "from sklearn.model_selection import cross_val_score\n",
        "from sklearn.linear_model import LogisticRegression\n",
        "from sklearn.linear_model import RidgeClassifier\n",
        "from sklearn.linear_model import SGDClassifier\n",
        "from sklearn.linear_model import PassiveAggressiveClassifier\n",
        "from sklearn.neighbors import KNeighborsClassifier\n",
        "from sklearn.tree import DecisionTreeClassifier\n",
        "from sklearn.tree import ExtraTreeClassifier\n",
        "from sklearn.svm import LinearSVC\n",
        "from sklearn.svm import SVC\n",
        "from sklearn.naive_bayes import GaussianNB\n",
        "from sklearn.ensemble import AdaBoostClassifier\n",
        "from sklearn.ensemble import BaggingClassifier\n",
        "from sklearn.ensemble import RandomForestClassifier\n",
        "from sklearn.ensemble import ExtraTreesClassifier\n",
        "from sklearn.gaussian_process import GaussianProcessClassifier\n",
        "from sklearn.ensemble import GradientBoostingClassifier\n",
        "from sklearn.discriminant_analysis import LinearDiscriminantAnalysis\n",
        "from sklearn.discriminant_analysis import QuadraticDiscriminantAnalysis"
      ],
      "execution_count": 26,
      "outputs": []
    },
    {
      "cell_type": "code",
      "metadata": {
        "id": "GGzp9thU7pan",
        "colab_type": "code",
        "colab": {}
      },
      "source": [
        " # create the dataset\n",
        "def get_dataset(n_samples=100):\n",
        "\tX, y = make_classification(n_samples=n_samples, n_features=20, n_informative=15, n_redundant=5, random_state=1)\n",
        "\treturn X, y"
      ],
      "execution_count": 12,
      "outputs": []
    },
    {
      "cell_type": "code",
      "metadata": {
        "id": "Qex-z4FD7yVd",
        "colab_type": "code",
        "colab": {}
      },
      "source": [
        "# retrieve the model to be evaluate\n",
        "def get_model():\n",
        "\tmodel = LogisticRegression()\n",
        "\treturn model"
      ],
      "execution_count": 13,
      "outputs": []
    },
    {
      "cell_type": "code",
      "metadata": {
        "id": "0pHhKG6T7z8f",
        "colab_type": "code",
        "colab": {}
      },
      "source": [
        "# evaluate the model using a given test condition\n",
        "def evaluate_model(cv):\n",
        "\t# get the dataset\n",
        "\tX, y = get_dataset()\n",
        "\t# get the model\n",
        "\tmodel = get_model()\n",
        "\t# evaluate the model\n",
        "\tscores = cross_val_score(model, X, y, scoring='accuracy', cv=cv, n_jobs=-1)\n",
        "\t# return scores\n",
        "\treturn mean(scores), scores.min(), scores.max()"
      ],
      "execution_count": 14,
      "outputs": []
    },
    {
      "cell_type": "code",
      "metadata": {
        "id": "zZftOhk47vqN",
        "colab_type": "code",
        "colab": {
          "base_uri": "https://localhost:8080/",
          "height": 34
        },
        "outputId": "88efc14f-8cc3-4be8-b56c-a1a693f9487d"
      },
      "source": [
        "# calculate the ideal test condition - i.e. LOOCV (Leave-one-out Cross-validation) condition\n",
        "ideal, _, _ = evaluate_model(LeaveOneOut())\n",
        "print('Ideal/LOOCV: %.3f' % ideal)"
      ],
      "execution_count": 15,
      "outputs": [
        {
          "output_type": "stream",
          "text": [
            "Ideal/LOOCV: 0.840\n"
          ],
          "name": "stdout"
        }
      ]
    },
    {
      "cell_type": "code",
      "metadata": {
        "id": "Nnd9VN3w73L-",
        "colab_type": "code",
        "colab": {}
      },
      "source": [
        "# define values of folds to test\n",
        "folds = range(2,31)"
      ],
      "execution_count": 16,
      "outputs": []
    },
    {
      "cell_type": "code",
      "metadata": {
        "id": "X7LGA80c7635",
        "colab_type": "code",
        "colab": {
          "base_uri": "https://localhost:8080/",
          "height": 510
        },
        "outputId": "920e276f-c46b-4364-a91c-11930f69e697"
      },
      "source": [
        "# record mean and min/max of each set of results\n",
        "means, mins, maxs = list(),list(),list()\n",
        "# evaluate each k value\n",
        "for k in folds:\n",
        "\t# define the test condition\n",
        "\tcv = KFold(n_splits=k, shuffle=True, random_state=1)\n",
        "\t# evaluate k value\n",
        "\tk_mean, k_min, k_max = evaluate_model(cv)\n",
        "\t# report performance\n",
        "\tprint('> folds=%d, accuracy=%.3f (%.3f,%.3f)' % (k, k_mean, k_min, k_max))\n",
        "\t# store mean accuracy\n",
        "\tmeans.append(k_mean)\n",
        "\t# store min and max relative to the mean\n",
        "\tmins.append(k_mean - k_min)\n",
        "\tmaxs.append(k_max - k_mean)"
      ],
      "execution_count": 17,
      "outputs": [
        {
          "output_type": "stream",
          "text": [
            "> folds=2, accuracy=0.740 (0.700,0.780)\n",
            "> folds=3, accuracy=0.749 (0.697,0.824)\n",
            "> folds=4, accuracy=0.790 (0.640,0.920)\n",
            "> folds=5, accuracy=0.810 (0.600,0.950)\n",
            "> folds=6, accuracy=0.820 (0.688,0.941)\n",
            "> folds=7, accuracy=0.799 (0.571,1.000)\n",
            "> folds=8, accuracy=0.811 (0.385,0.923)\n",
            "> folds=9, accuracy=0.829 (0.636,1.000)\n",
            "> folds=10, accuracy=0.850 (0.600,1.000)\n",
            "> folds=11, accuracy=0.829 (0.667,1.000)\n",
            "> folds=12, accuracy=0.785 (0.250,1.000)\n",
            "> folds=13, accuracy=0.839 (0.571,1.000)\n",
            "> folds=14, accuracy=0.807 (0.429,1.000)\n",
            "> folds=15, accuracy=0.821 (0.571,1.000)\n",
            "> folds=16, accuracy=0.827 (0.500,1.000)\n",
            "> folds=17, accuracy=0.816 (0.600,1.000)\n",
            "> folds=18, accuracy=0.831 (0.600,1.000)\n",
            "> folds=19, accuracy=0.826 (0.600,1.000)\n",
            "> folds=20, accuracy=0.830 (0.600,1.000)\n",
            "> folds=21, accuracy=0.814 (0.500,1.000)\n",
            "> folds=22, accuracy=0.820 (0.500,1.000)\n",
            "> folds=23, accuracy=0.802 (0.250,1.000)\n",
            "> folds=24, accuracy=0.804 (0.250,1.000)\n",
            "> folds=25, accuracy=0.810 (0.250,1.000)\n",
            "> folds=26, accuracy=0.804 (0.250,1.000)\n",
            "> folds=27, accuracy=0.818 (0.250,1.000)\n",
            "> folds=28, accuracy=0.821 (0.250,1.000)\n",
            "> folds=29, accuracy=0.822 (0.250,1.000)\n",
            "> folds=30, accuracy=0.822 (0.333,1.000)\n"
          ],
          "name": "stdout"
        }
      ]
    },
    {
      "cell_type": "markdown",
      "metadata": {
        "id": "pinwG5fy8Kh-",
        "colab_type": "text"
      },
      "source": [
        "In this case, we can see that the LOOCV result was about 84 percent, slightly lower than the k=10 result of 85 percent. A line plot is created comparing the mean accuracy scores to the LOOCV result with the min and max of each result distribution indicated using error bars."
      ]
    },
    {
      "cell_type": "code",
      "metadata": {
        "id": "zJmiMKHr79sa",
        "colab_type": "code",
        "colab": {
          "base_uri": "https://localhost:8080/",
          "height": 265
        },
        "outputId": "82d0834c-d7be-491b-a4db-ce05a1623c35"
      },
      "source": [
        "# line plot of k mean values with min/max error bars\n",
        "pyplot.errorbar(folds, means, yerr=[mins, maxs], fmt='o')\n",
        "# plot the ideal case in a separate color\n",
        "pyplot.plot(folds, [ideal for _ in range(len(folds))], color='r')\n",
        "# show the plot\n",
        "pyplot.show()"
      ],
      "execution_count": 18,
      "outputs": [
        {
          "output_type": "display_data",
          "data": {
            "image/png": "[encoded data removed]",
            "text/plain": [
              "<Figure size 432x288 with 1 Axes>"
            ]
          },
          "metadata": {
            "tags": [],
            "needs_background": "light"
          }
        }
      ]
    },
    {
      "cell_type": "markdown",
      "metadata": {
        "id": "eDzcrT058VBr",
        "colab_type": "text"
      },
      "source": [
        "The results suggest that for this model on this dataset, most k values underestimate the performance of the model compared to the ideal case. The results suggest that perhaps k=10 alone is slightly optimistic and perhaps k=13 might be a more accurate estimate."
      ]
    },
    {
      "cell_type": "code",
      "metadata": {
        "id": "_Nz2tl2E8Vmg",
        "colab_type": "code",
        "colab": {}
      },
      "source": [
        ""
      ],
      "execution_count": null,
      "outputs": []
    },
    {
      "cell_type": "markdown",
      "metadata": {
        "id": "rQF8TLj0870j",
        "colab_type": "text"
      },
      "source": [
        "# Correlation of Test Harness With Target"
      ]
    },
    {
      "cell_type": "markdown",
      "metadata": {
        "id": "Rdtv9RZF_wuU",
        "colab_type": "text"
      },
      "source": [
        "Once a test harness is chosen, another consideration is how well it matches the ideal test condition across different algorithms.\n",
        "\n",
        "It is possible that for some algorithms and some configurations, the k-fold cross-validation will be a better approximation of the ideal test condition compared to other algorithms and algorithm configurations.\n",
        "\n",
        "We can evaluate and report on this relationship explicitly. This can be achieved by calculating how well the k-fold cross-validation results across a range of algorithms match the evaluation of the same algorithms on the ideal test condition.\n",
        "\n",
        "The Pearson’s correlation coefficient can be calculated between the two groups of scores to measure how closely they match. That is, do they change together in the same ways: when one algorithm looks better than another via k-fold cross-validation, does this hold on the ideal test condition?\n",
        "\n",
        "We expect to see a strong positive correlation between the scores, such as 0.5 or higher. A low correlation suggests the need to change the k-fold cross-validation test harness to better match the ideal test condition."
      ]
    },
    {
      "cell_type": "code",
      "metadata": {
        "id": "Fz4ZT8NP89nM",
        "colab_type": "code",
        "colab": {}
      },
      "source": [
        "# get a list of models to evaluate\n",
        "def get_models():\n",
        "\tmodels = list()\n",
        "\tmodels.append(LogisticRegression())\n",
        "\tmodels.append(RidgeClassifier())\n",
        "\tmodels.append(SGDClassifier())\n",
        "\tmodels.append(PassiveAggressiveClassifier())\n",
        "\tmodels.append(KNeighborsClassifier())\n",
        "\tmodels.append(DecisionTreeClassifier())\n",
        "\tmodels.append(ExtraTreeClassifier())\n",
        "\tmodels.append(LinearSVC())\n",
        "\tmodels.append(SVC())\n",
        "\tmodels.append(GaussianNB())\n",
        "\tmodels.append(AdaBoostClassifier())\n",
        "\tmodels.append(BaggingClassifier())\n",
        "\tmodels.append(RandomForestClassifier())\n",
        "\tmodels.append(ExtraTreesClassifier())\n",
        "\tmodels.append(GaussianProcessClassifier())\n",
        "\tmodels.append(GradientBoostingClassifier())\n",
        "\tmodels.append(LinearDiscriminantAnalysis())\n",
        "\tmodels.append(QuadraticDiscriminantAnalysis())\n",
        "\treturn models"
      ],
      "execution_count": 19,
      "outputs": []
    },
    {
      "cell_type": "code",
      "metadata": {
        "id": "As92gHYd-CoS",
        "colab_type": "code",
        "colab": {}
      },
      "source": [
        "# evaluate the model using a given test condition\n",
        "def evaluate_model(cv, model):\n",
        "\t# get the dataset\n",
        "\tX, y = get_dataset()\n",
        "\t# evaluate the model\n",
        "\tscores = cross_val_score(model, X, y, scoring='accuracy', cv=cv, n_jobs=-1)\n",
        "\t# return scores\n",
        "\treturn mean(scores)"
      ],
      "execution_count": 24,
      "outputs": []
    },
    {
      "cell_type": "code",
      "metadata": {
        "id": "VtiiJTuD9Nwt",
        "colab_type": "code",
        "colab": {
          "base_uri": "https://localhost:8080/",
          "height": 323
        },
        "outputId": "c0c7cc55-743a-4cbe-ed27-82dbc7c5e103"
      },
      "source": [
        "# define test conditions\n",
        "ideal_cv = LeaveOneOut()\n",
        "cv = KFold(n_splits=10, shuffle=True, random_state=1)\n",
        "# get the list of models to consider\n",
        "models = get_models()\n",
        "# collect results\n",
        "ideal_results, cv_results = list(), list()\n",
        "# evaluate each model\n",
        "for model in models:\n",
        "\t# evaluate model using each test condition\n",
        "\tcv_mean = evaluate_model(cv, model)\n",
        "\tideal_mean = evaluate_model(ideal_cv, model)\n",
        "\t# check for invalid results\n",
        "\tif isnan(cv_mean) or isnan(ideal_mean):\n",
        "\t\tcontinue\n",
        "\t# store results\n",
        "\tcv_results.append(cv_mean)\n",
        "\tideal_results.append(ideal_mean)\n",
        "\t# summarize progress\n",
        "\tprint('>%s: ideal=%.3f, cv=%.3f' % (type(model).__name__, ideal_mean, cv_mean))"
      ],
      "execution_count": 27,
      "outputs": [
        {
          "output_type": "stream",
          "text": [
            ">LogisticRegression: ideal=0.840, cv=0.850\n",
            ">RidgeClassifier: ideal=0.830, cv=0.830\n",
            ">SGDClassifier: ideal=0.770, cv=0.780\n",
            ">PassiveAggressiveClassifier: ideal=0.830, cv=0.720\n",
            ">KNeighborsClassifier: ideal=0.760, cv=0.770\n",
            ">DecisionTreeClassifier: ideal=0.750, cv=0.670\n",
            ">ExtraTreeClassifier: ideal=0.620, cv=0.630\n",
            ">LinearSVC: ideal=0.830, cv=0.820\n",
            ">SVC: ideal=0.900, cv=0.880\n",
            ">GaussianNB: ideal=0.730, cv=0.720\n",
            ">AdaBoostClassifier: ideal=0.740, cv=0.740\n",
            ">BaggingClassifier: ideal=0.770, cv=0.730\n",
            ">RandomForestClassifier: ideal=0.790, cv=0.760\n",
            ">ExtraTreesClassifier: ideal=0.810, cv=0.800\n",
            ">GaussianProcessClassifier: ideal=0.790, cv=0.760\n",
            ">GradientBoostingClassifier: ideal=0.820, cv=0.820\n",
            ">LinearDiscriminantAnalysis: ideal=0.830, cv=0.830\n",
            ">QuadraticDiscriminantAnalysis: ideal=0.910, cv=0.690\n"
          ],
          "name": "stdout"
        }
      ]
    },
    {
      "cell_type": "code",
      "metadata": {
        "id": "5DDoqCji9oC7",
        "colab_type": "code",
        "colab": {
          "base_uri": "https://localhost:8080/",
          "height": 34
        },
        "outputId": "5466478b-e7ee-4ca8-f61c-d48ab5c934c1"
      },
      "source": [
        "# calculate the correlation between each test condition\n",
        "corr, _ = pearsonr(cv_results, ideal_results)\n",
        "print('Correlation: %.3f' % corr)"
      ],
      "execution_count": 28,
      "outputs": [
        {
          "output_type": "stream",
          "text": [
            "Correlation: 0.623\n"
          ],
          "name": "stdout"
        }
      ]
    },
    {
      "cell_type": "code",
      "metadata": {
        "id": "Wgn5ZlnR-cWV",
        "colab_type": "code",
        "colab": {
          "base_uri": "https://localhost:8080/",
          "height": 295
        },
        "outputId": "45f2ada0-4558-4f37-eb38-a502c95a28d8"
      },
      "source": [
        "# scatter plot of results\n",
        "pyplot.scatter(cv_results, ideal_results)\n",
        "# plot the line of best fit\n",
        "coeff, bias = polyfit(cv_results, ideal_results, 1)\n",
        "line = coeff * asarray(cv_results) + bias\n",
        "pyplot.plot(cv_results, line, color='r')\n",
        "# label the plot\n",
        "pyplot.title('10-fold CV vs LOOCV Mean Accuracy')\n",
        "pyplot.xlabel('Mean Accuracy (Test Harness - 10-fold CV)')\n",
        "pyplot.ylabel('Mean Accuracy (LOOCV)')\n",
        "# show the plot\n",
        "pyplot.show()"
      ],
      "execution_count": 32,
      "outputs": [
        {
          "output_type": "display_data",
          "data": {
            "image/png": "[encoded data removed]",
            "text/plain": [
              "<Figure size 432x288 with 1 Axes>"
            ]
          },
          "metadata": {
            "tags": [],
            "needs_background": "light"
          }
        }
      ]
    },
    {
      "cell_type": "code",
      "metadata": {
        "id": "ldR8npVk-hzl",
        "colab_type": "code",
        "colab": {}
      },
      "source": [
        ""
      ],
      "execution_count": null,
      "outputs": []
    }
  ]
}