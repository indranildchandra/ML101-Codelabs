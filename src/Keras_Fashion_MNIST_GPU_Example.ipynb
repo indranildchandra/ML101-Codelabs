{
  "nbformat": 4,
  "nbformat_minor": 0,
  "metadata": {
    "colab": {
      "name": "Keras Fashion MNIST GPU Example",
      "version": "0.3.2",
      "provenance": [],
      "collapsed_sections": [],
      "include_colab_link": true
    },
    "kernelspec": {
      "name": "python3",
      "display_name": "Python 3"
    },
    "accelerator": "GPU"
  },
  "cells": [
    {
      "cell_type": "markdown",
      "metadata": {
        "id": "view-in-github",
        "colab_type": "text"
      },
      "source": [
        "<a href=\"https://colab.research.google.com/github/indranildchandra/ML101-Codelabs/blob/master/src/Keras_Fashion_MNIST_GPU_Example.ipynb\" target=\"_parent\"><img src=\"https://colab.research.google.com/assets/colab-badge.svg\" alt=\"Open In Colab\"/></a>"
      ]
    },
    {
      "metadata": {
        "id": "xdHrJctkrH9U",
        "colab_type": "code",
        "colab": {}
      },
      "cell_type": "code",
      "source": [
        "%%capture\n",
        "!pip install watermark"
      ],
      "execution_count": 0,
      "outputs": []
    },
    {
      "metadata": {
        "id": "conjYMPerLfW",
        "colab_type": "code",
        "outputId": "2c0b9286-e54c-48c1-b6a0-8bc8450c97dd",
        "colab": {
          "base_uri": "https://localhost:8080/",
          "height": 187
        }
      },
      "cell_type": "code",
      "source": [
        "%load_ext watermark\n",
        "%watermark -p tensorflow,numpy -m"
      ],
      "execution_count": 0,
      "outputs": [
        {
          "output_type": "stream",
          "text": [
            "tensorflow 1.12.0\n",
            "numpy 1.14.6\n",
            "\n",
            "compiler   : GCC 8.2.0\n",
            "system     : Linux\n",
            "release    : 4.14.79+\n",
            "machine    : x86_64\n",
            "processor  : x86_64\n",
            "CPU cores  : 2\n",
            "interpreter: 64bit\n"
          ],
          "name": "stdout"
        }
      ]
    },
    {
      "metadata": {
        "id": "5P9ue5OK7jKG",
        "colab_type": "text"
      },
      "cell_type": "markdown",
      "source": [
        "(Adapted from https://github.com/tensorflow/tpu/blob/master/tools/colab/fashion_mnist.ipynb)"
      ]
    },
    {
      "metadata": {
        "id": "Ot79jiI7GiHR",
        "colab_type": "text"
      },
      "cell_type": "markdown",
      "source": [
        "# Fashion MNIST with Keras and GPU\n",
        "\n",
        "First, let's grab our dataset using `tf.keras.datasets`."
      ]
    },
    {
      "metadata": {
        "id": "Zo-Yk6LFGfSf",
        "colab_type": "code",
        "outputId": "dbe2fc15-6c6e-4282-d906-54f25527e871",
        "colab": {
          "base_uri": "https://localhost:8080/",
          "height": 153
        }
      },
      "cell_type": "code",
      "source": [
        "import os\n",
        "\n",
        "import tensorflow as tf\n",
        "import numpy as np\n",
        "import pandas as pd\n",
        "from sklearn.model_selection import StratifiedShuffleSplit\n",
        "\n",
        "(x_train, y_train), (x_test, y_test) = tf.keras.datasets.fashion_mnist.load_data()\n",
        "\n",
        "# add empty color dimension\n",
        "x_train = np.expand_dims(x_train, -1)\n",
        "x_test = np.expand_dims(x_test, -1)"
      ],
      "execution_count": 0,
      "outputs": [
        {
          "output_type": "stream",
          "text": [
            "Downloading data from https://storage.googleapis.com/tensorflow/tf-keras-datasets/train-labels-idx1-ubyte.gz\n",
            "32768/29515 [=================================] - 0s 0us/step\n",
            "Downloading data from https://storage.googleapis.com/tensorflow/tf-keras-datasets/train-images-idx3-ubyte.gz\n",
            "26427392/26421880 [==============================] - 1s 0us/step\n",
            "Downloading data from https://storage.googleapis.com/tensorflow/tf-keras-datasets/t10k-labels-idx1-ubyte.gz\n",
            "8192/5148 [===============================================] - 0s 0us/step\n",
            "Downloading data from https://storage.googleapis.com/tensorflow/tf-keras-datasets/t10k-images-idx3-ubyte.gz\n",
            "4423680/4422102 [==============================] - 0s 0us/step\n"
          ],
          "name": "stdout"
        }
      ]
    },
    {
      "metadata": {
        "id": "bIBg5cUtso-o",
        "colab_type": "text"
      },
      "cell_type": "markdown",
      "source": [
        "Value distribution of X:"
      ]
    },
    {
      "metadata": {
        "id": "4OMHWt6osCz3",
        "colab_type": "code",
        "outputId": "60a3dd43-c0d2-48b8-e9a9-eca3ab057dad",
        "colab": {
          "base_uri": "https://localhost:8080/",
          "height": 170
        }
      },
      "cell_type": "code",
      "source": [
        "pd.set_option('display.float_format', lambda x: '%.3f' % x)\n",
        "pd.Series(x_train.reshape(-1)).describe()"
      ],
      "execution_count": 0,
      "outputs": [
        {
          "output_type": "execute_result",
          "data": {
            "text/plain": [
              "count   47040000.000\n",
              "mean          72.940\n",
              "std           90.021\n",
              "min            0.000\n",
              "25%            0.000\n",
              "50%            0.000\n",
              "75%          163.000\n",
              "max          255.000\n",
              "dtype: float64"
            ]
          },
          "metadata": {
            "tags": []
          },
          "execution_count": 4
        }
      ]
    },
    {
      "metadata": {
        "id": "1C-WcdnNsyFU",
        "colab_type": "text"
      },
      "cell_type": "markdown",
      "source": [
        "Value distribution of Y:\n"
      ]
    },
    {
      "metadata": {
        "id": "MCOsHdxEsjQD",
        "colab_type": "code",
        "outputId": "53513906-841a-4103-f3be-d8a27799f142",
        "colab": {
          "base_uri": "https://localhost:8080/",
          "height": 170
        }
      },
      "cell_type": "code",
      "source": [
        "pd.Series(y_train.reshape(-1)).describe()"
      ],
      "execution_count": 0,
      "outputs": [
        {
          "output_type": "execute_result",
          "data": {
            "text/plain": [
              "count   60000.000\n",
              "mean        4.500\n",
              "std         2.872\n",
              "min         0.000\n",
              "25%         2.000\n",
              "50%         4.500\n",
              "75%         7.000\n",
              "max         9.000\n",
              "dtype: float64"
            ]
          },
          "metadata": {
            "tags": []
          },
          "execution_count": 5
        }
      ]
    },
    {
      "metadata": {
        "id": "Lx_VvBFNxHsr",
        "colab_type": "text"
      },
      "cell_type": "markdown",
      "source": [
        "### Create a validation set"
      ]
    },
    {
      "metadata": {
        "id": "flkZMTP7xGvc",
        "colab_type": "code",
        "outputId": "98dccf48-90b5-45de-c588-34f2be90a768",
        "colab": {
          "base_uri": "https://localhost:8080/",
          "height": 34
        }
      },
      "cell_type": "code",
      "source": [
        "sss = StratifiedShuffleSplit(n_splits=5, random_state=0, test_size=1/6)\n",
        "train_index, valid_index = next(sss.split(x_train, y_train))\n",
        "x_valid, y_valid = x_train[valid_index], y_train[valid_index]\n",
        "x_train, y_train = x_train[train_index], y_train[train_index]\n",
        "print(x_train.shape, x_valid.shape, x_test.shape)"
      ],
      "execution_count": 0,
      "outputs": [
        {
          "output_type": "stream",
          "text": [
            "(50000, 28, 28, 1) (10000, 28, 28, 1) (10000, 28, 28, 1)\n"
          ],
          "name": "stdout"
        }
      ]
    },
    {
      "metadata": {
        "id": "Hgc2FZKVMx15",
        "colab_type": "text"
      },
      "cell_type": "markdown",
      "source": [
        "# Defining our model\n",
        "\n",
        "We will use a standard conv-net for this example.  We have 3 layers with drop-out and batch normalization between each layer."
      ]
    },
    {
      "metadata": {
        "id": "W7gMbs70GxA7",
        "colab_type": "code",
        "outputId": "2b72d76f-3062-4dd7-adc2-500d5423c3d7",
        "colab": {
          "base_uri": "https://localhost:8080/",
          "height": 748
        }
      },
      "cell_type": "code",
      "source": [
        "model = tf.keras.models.Sequential()\n",
        "model.add(tf.keras.layers.BatchNormalization(input_shape=x_train.shape[1:]))\n",
        "model.add(tf.keras.layers.Conv2D(64, (5, 5), padding='same', activation='elu'))\n",
        "model.add(tf.keras.layers.MaxPooling2D(pool_size=(2, 2), strides=(2,2)))\n",
        "model.add(tf.keras.layers.Dropout(0.25))\n",
        "\n",
        "model.add(tf.keras.layers.BatchNormalization(input_shape=x_train.shape[1:]))\n",
        "model.add(tf.keras.layers.Conv2D(128, (5, 5), padding='same', activation='elu'))\n",
        "model.add(tf.keras.layers.MaxPooling2D(pool_size=(2, 2)))\n",
        "model.add(tf.keras.layers.Dropout(0.25))\n",
        "\n",
        "model.add(tf.keras.layers.BatchNormalization(input_shape=x_train.shape[1:]))\n",
        "model.add(tf.keras.layers.Conv2D(256, (5, 5), padding='same', activation='elu'))\n",
        "model.add(tf.keras.layers.MaxPooling2D(pool_size=(2, 2), strides=(2,2)))\n",
        "model.add(tf.keras.layers.Dropout(0.25))\n",
        "\n",
        "model.add(tf.keras.layers.Flatten())\n",
        "model.add(tf.keras.layers.Dense(256))\n",
        "model.add(tf.keras.layers.Activation('elu'))\n",
        "model.add(tf.keras.layers.Dropout(0.5))\n",
        "model.add(tf.keras.layers.Dense(10))\n",
        "model.add(tf.keras.layers.Activation('softmax'))\n",
        "model.summary()"
      ],
      "execution_count": 0,
      "outputs": [
        {
          "output_type": "stream",
          "text": [
            "_________________________________________________________________\n",
            "Layer (type)                 Output Shape              Param #   \n",
            "=================================================================\n",
            "batch_normalization (BatchNo (None, 28, 28, 1)         4         \n",
            "_________________________________________________________________\n",
            "conv2d (Conv2D)              (None, 28, 28, 64)        1664      \n",
            "_________________________________________________________________\n",
            "max_pooling2d (MaxPooling2D) (None, 14, 14, 64)        0         \n",
            "_________________________________________________________________\n",
            "dropout (Dropout)            (None, 14, 14, 64)        0         \n",
            "_________________________________________________________________\n",
            "batch_normalization_1 (Batch (None, 14, 14, 64)        256       \n",
            "_________________________________________________________________\n",
            "conv2d_1 (Conv2D)            (None, 14, 14, 128)       204928    \n",
            "_________________________________________________________________\n",
            "max_pooling2d_1 (MaxPooling2 (None, 7, 7, 128)         0         \n",
            "_________________________________________________________________\n",
            "dropout_1 (Dropout)          (None, 7, 7, 128)         0         \n",
            "_________________________________________________________________\n",
            "batch_normalization_2 (Batch (None, 7, 7, 128)         512       \n",
            "_________________________________________________________________\n",
            "conv2d_2 (Conv2D)            (None, 7, 7, 256)         819456    \n",
            "_________________________________________________________________\n",
            "max_pooling2d_2 (MaxPooling2 (None, 3, 3, 256)         0         \n",
            "_________________________________________________________________\n",
            "dropout_2 (Dropout)          (None, 3, 3, 256)         0         \n",
            "_________________________________________________________________\n",
            "flatten (Flatten)            (None, 2304)              0         \n",
            "_________________________________________________________________\n",
            "dense (Dense)                (None, 256)               590080    \n",
            "_________________________________________________________________\n",
            "activation (Activation)      (None, 256)               0         \n",
            "_________________________________________________________________\n",
            "dropout_3 (Dropout)          (None, 256)               0         \n",
            "_________________________________________________________________\n",
            "dense_1 (Dense)              (None, 10)                2570      \n",
            "_________________________________________________________________\n",
            "activation_1 (Activation)    (None, 10)                0         \n",
            "=================================================================\n",
            "Total params: 1,619,470\n",
            "Trainable params: 1,619,084\n",
            "Non-trainable params: 386\n",
            "_________________________________________________________________\n"
          ],
          "name": "stdout"
        }
      ]
    },
    {
      "metadata": {
        "id": "xLeZATVaNAnE",
        "colab_type": "text"
      },
      "cell_type": "markdown",
      "source": [
        "# Training on the GPU\n",
        "\n",
        "Here we demonstrate that we can use a generator function and `fit_generator` to train the model.  You can also pass in `x_train` and `y_train` to `tpu_model.fit()` instead."
      ]
    },
    {
      "metadata": {
        "id": "pWEYmd_hIWg8",
        "colab_type": "code",
        "colab": {}
      },
      "cell_type": "code",
      "source": [
        "model.compile(\n",
        "    optimizer=tf.train.AdamOptimizer(learning_rate=1e-3, ),\n",
        "    loss=tf.keras.losses.sparse_categorical_crossentropy,\n",
        "    metrics=['sparse_categorical_accuracy']\n",
        ")"
      ],
      "execution_count": 0,
      "outputs": []
    },
    {
      "metadata": {
        "id": "V1Zf7QtDvJAU",
        "colab_type": "code",
        "outputId": "36021ff8-2b90-4bea-f71d-702a94f7a0e1",
        "colab": {
          "base_uri": "https://localhost:8080/",
          "height": 581
        }
      },
      "cell_type": "code",
      "source": [
        "%%time\n",
        "def train_gen(batch_size):\n",
        "  while True:\n",
        "    offset = np.random.randint(0, x_train.shape[0] - batch_size)\n",
        "    yield x_train[offset:offset+batch_size], y_train[offset:offset + batch_size]\n",
        "    \n",
        "\n",
        "model.fit_generator(\n",
        "    train_gen(512),\n",
        "    epochs=15,\n",
        "    steps_per_epoch=100,\n",
        "    validation_data=(x_valid, y_valid)\n",
        ")"
      ],
      "execution_count": 0,
      "outputs": [
        {
          "output_type": "stream",
          "text": [
            "Epoch 1/15\n",
            "100/100 [==============================] - 17s 174ms/step - loss: 0.9295 - sparse_categorical_accuracy: 0.7304 - val_loss: 1.2306 - val_sparse_categorical_accuracy: 0.6365\n",
            "Epoch 2/15\n",
            "100/100 [==============================] - 12s 123ms/step - loss: 0.4681 - sparse_categorical_accuracy: 0.8407 - val_loss: 0.9285 - val_sparse_categorical_accuracy: 0.6954\n",
            "Epoch 3/15\n",
            "100/100 [==============================] - 12s 123ms/step - loss: 0.3874 - sparse_categorical_accuracy: 0.8660 - val_loss: 0.7310 - val_sparse_categorical_accuracy: 0.7354\n",
            "Epoch 4/15\n",
            "100/100 [==============================] - 12s 123ms/step - loss: 0.3404 - sparse_categorical_accuracy: 0.8785 - val_loss: 0.3462 - val_sparse_categorical_accuracy: 0.8769\n",
            "Epoch 5/15\n",
            "100/100 [==============================] - 12s 123ms/step - loss: 0.3041 - sparse_categorical_accuracy: 0.8897 - val_loss: 0.2993 - val_sparse_categorical_accuracy: 0.8886\n",
            "Epoch 6/15\n",
            "100/100 [==============================] - 12s 123ms/step - loss: 0.2701 - sparse_categorical_accuracy: 0.9018 - val_loss: 0.2551 - val_sparse_categorical_accuracy: 0.9063\n",
            "Epoch 7/15\n",
            "100/100 [==============================] - 12s 123ms/step - loss: 0.2468 - sparse_categorical_accuracy: 0.9101 - val_loss: 0.2359 - val_sparse_categorical_accuracy: 0.9173\n",
            "Epoch 8/15\n",
            "100/100 [==============================] - 12s 123ms/step - loss: 0.2169 - sparse_categorical_accuracy: 0.9208 - val_loss: 0.2468 - val_sparse_categorical_accuracy: 0.9138\n",
            "Epoch 9/15\n",
            "100/100 [==============================] - 12s 123ms/step - loss: 0.2020 - sparse_categorical_accuracy: 0.9239 - val_loss: 0.2199 - val_sparse_categorical_accuracy: 0.9244\n",
            "Epoch 10/15\n",
            "100/100 [==============================] - 12s 123ms/step - loss: 0.1909 - sparse_categorical_accuracy: 0.9292 - val_loss: 0.2271 - val_sparse_categorical_accuracy: 0.9243\n",
            "Epoch 11/15\n",
            "100/100 [==============================] - 12s 123ms/step - loss: 0.1815 - sparse_categorical_accuracy: 0.9322 - val_loss: 0.2243 - val_sparse_categorical_accuracy: 0.9227\n",
            "Epoch 12/15\n",
            "100/100 [==============================] - 12s 123ms/step - loss: 0.1659 - sparse_categorical_accuracy: 0.9376 - val_loss: 0.2504 - val_sparse_categorical_accuracy: 0.9168\n",
            "Epoch 13/15\n",
            "100/100 [==============================] - 12s 123ms/step - loss: 0.1566 - sparse_categorical_accuracy: 0.9415 - val_loss: 0.2298 - val_sparse_categorical_accuracy: 0.9232\n",
            "Epoch 14/15\n",
            "100/100 [==============================] - 12s 123ms/step - loss: 0.1512 - sparse_categorical_accuracy: 0.9421 - val_loss: 0.2324 - val_sparse_categorical_accuracy: 0.9241\n",
            "Epoch 15/15\n",
            "100/100 [==============================] - 12s 123ms/step - loss: 0.1471 - sparse_categorical_accuracy: 0.9441 - val_loss: 0.2214 - val_sparse_categorical_accuracy: 0.9278\n",
            "CPU times: user 1min 23s, sys: 14 s, total: 1min 37s\n",
            "Wall time: 3min 10s\n"
          ],
          "name": "stdout"
        }
      ]
    },
    {
      "metadata": {
        "id": "ESL6ltQTMm05",
        "colab_type": "text"
      },
      "cell_type": "markdown",
      "source": [
        "# Checking our results (inference)\n"
      ]
    },
    {
      "metadata": {
        "id": "SaYPv_aKId2d",
        "colab_type": "code",
        "outputId": "257a59dd-7af0-4d27-84dc-cf54ccb2e257",
        "colab": {
          "base_uri": "https://localhost:8080/",
          "height": 585
        }
      },
      "cell_type": "code",
      "source": [
        "LABEL_NAMES = ['t_shirt', 'trouser', 'pullover', 'dress', 'coat', 'sandal', 'shirt', 'sneaker', 'bag', 'ankle_boots']\n",
        "\n",
        "from matplotlib import pyplot\n",
        "%matplotlib inline\n",
        "\n",
        "def plot_predictions(images, predictions, true_labels):\n",
        "  n = images.shape[0]\n",
        "  nc = int(np.ceil(n / 4))\n",
        "  fig = pyplot.figure(figsize=(4,3))\n",
        "  # axes = fig.add_subplot(nc, 4)\n",
        "  f, axes = pyplot.subplots(nc, 4)\n",
        "  f.tight_layout()\n",
        "  for i in range(nc * 4):\n",
        "    y = i // 4\n",
        "    x = i % 4\n",
        "    axes[x, y].axis('off')\n",
        "    \n",
        "    label = LABEL_NAMES[np.argmax(predictions[i])]\n",
        "    confidence = np.max(predictions[i])\n",
        "    if i > n:\n",
        "      continue\n",
        "    axes[x, y].imshow(images[i])\n",
        "    pred_label = np.argmax(predictions[i])\n",
        "    axes[x, y].set_title(\"{} ({})\\n {:.3f}\".format(\n",
        "      LABEL_NAMES[pred_label], \n",
        "      LABEL_NAMES[true_labels[i]],\n",
        "      confidence\n",
        "    ), color=(\"green\" if true_labels[i] == pred_label else \"red\"))\n",
        "  pyplot.gcf().set_size_inches(8, 8)  \n",
        "\n",
        "plot_predictions(\n",
        "    np.squeeze(x_test[:16]), \n",
        "    model.predict(x_test[:16]),\n",
        "    y_test[:16]\n",
        ")"
      ],
      "execution_count": 0,
      "outputs": [
        {
          "output_type": "display_data",
          "data": {
            "text/plain": [
              "<Figure size 288x216 with 0 Axes>"
            ]
          },
          "metadata": {
            "tags": []
          }
        },
        {
          "output_type": "display_data",
          "data": {
            "image/png": "[encoded data removed]",
            "text/plain": [
              "<Figure size 576x576 with 16 Axes>"
            ]
          },
          "metadata": {
            "tags": []
          }
        }
      ]
    },
    {
      "metadata": {
        "id": "e0m_OqgFzAK6",
        "colab_type": "code",
        "outputId": "abcc2708-9d4d-426d-aff7-be979eab88e7",
        "colab": {
          "base_uri": "https://localhost:8080/",
          "height": 85
        }
      },
      "cell_type": "code",
      "source": [
        "%%time\n",
        "# Evaluate the model on valid set\n",
        "score = model.evaluate(x_valid, y_valid, verbose=0)\n",
        "\n",
        "# Print test accuracy\n",
        "print('\\n', 'Valid accuracy:', score[1])"
      ],
      "execution_count": 0,
      "outputs": [
        {
          "output_type": "stream",
          "text": [
            "\n",
            " Valid accuracy: 0.9279\n",
            "CPU times: user 1.2 s, sys: 161 ms, total: 1.37 s\n",
            "Wall time: 1.79 s\n"
          ],
          "name": "stdout"
        }
      ]
    },
    {
      "metadata": {
        "id": "VgNcgjnMt6ER",
        "colab_type": "code",
        "outputId": "ceb4b54a-9e48-4090-c5fe-167021612c4a",
        "colab": {
          "base_uri": "https://localhost:8080/",
          "height": 85
        }
      },
      "cell_type": "code",
      "source": [
        "%%time\n",
        "# Evaluate the model on test set\n",
        "score = model.evaluate(x_test, y_test, verbose=0)\n",
        "\n",
        "# Print test accuracy\n",
        "print('\\n', 'Test accuracy:', score[1])"
      ],
      "execution_count": 0,
      "outputs": [
        {
          "output_type": "stream",
          "text": [
            "\n",
            " Test accuracy: 0.9179\n",
            "CPU times: user 1.16 s, sys: 148 ms, total: 1.3 s\n",
            "Wall time: 1.75 s\n"
          ],
          "name": "stdout"
        }
      ]
    },
    {
      "metadata": {
        "id": "GJAaFlQYNhoW",
        "colab_type": "text"
      },
      "cell_type": "markdown",
      "source": [
        "# Not bad!"
      ]
    }
  ]
}