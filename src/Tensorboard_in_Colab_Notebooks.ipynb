{
  "nbformat": 4,
  "nbformat_minor": 0,
  "metadata": {
    "colab": {
      "name": "Tensorboard_in_Colab_Notebooks.ipynb",
      "version": "0.3.2",
      "provenance": [],
      "collapsed_sections": [],
      "toc_visible": true,
      "include_colab_link": true
    },
    "kernelspec": {
      "name": "python3",
      "display_name": "Python 3"
    },
    "accelerator": "GPU"
  },
  "cells": [
    {
      "cell_type": "markdown",
      "metadata": {
        "id": "view-in-github",
        "colab_type": "text"
      },
      "source": [
        "<a href=\"https://colab.research.google.com/github/indranildchandra/ML101-Codelabs/blob/master/src/Tensorboard_in_Colab_Notebooks.ipynb\" target=\"_parent\"><img src=\"https://colab.research.google.com/assets/colab-badge.svg\" alt=\"Open In Colab\"/></a>"
      ]
    },
    {
      "cell_type": "markdown",
      "metadata": {
        "id": "TsHV-7cpVkyK",
        "colab_type": "text"
      },
      "source": [
        "##### Copyright 2019 The TensorFlow Authors."
      ]
    },
    {
      "cell_type": "code",
      "metadata": {
        "id": "atWM-s8yVnfX",
        "colab_type": "code",
        "colab": {}
      },
      "source": [
        "#@title Licensed under the Apache License, Version 2.0 (the \"License\");\n",
        "# you may not use this file except in compliance with the License.\n",
        "# You may obtain a copy of the License at\n",
        "#\n",
        "# https://www.apache.org/licenses/LICENSE-2.0\n",
        "#\n",
        "# Unless required by applicable law or agreed to in writing, software\n",
        "# distributed under the License is distributed on an \"AS IS\" BASIS,\n",
        "# WITHOUT WARRANTIES OR CONDITIONS OF ANY KIND, either express or implied.\n",
        "# See the License for the specific language governing permissions and\n",
        "# limitations under the License."
      ],
      "execution_count": 0,
      "outputs": []
    },
    {
      "cell_type": "markdown",
      "metadata": {
        "id": "TB0wBWfcVqHz",
        "colab_type": "text"
      },
      "source": [
        "# Using TensorBoard in Notebooks\n",
        "\n",
        "<table class=\"tfo-notebook-buttons\" align=\"left\">\n",
        "  <td>\n",
        "    <a target=\"_blank\" href=\"https://www.tensorflow.org/tensorboard/r2/tensorboard_in_notebooks\"><img src=\"https://www.tensorflow.org/images/tf_logo_32px.png\" />View on TensorFlow.org</a>\n",
        "  </td>\n",
        "  <td>\n",
        "    <a target=\"_blank\" href=\"https://colab.research.google.com/github/tensorflow/tensorboard/blob/master/docs/r2/tensorboard_in_notebooks.ipynb\"><img src=\"https://www.tensorflow.org/images/colab_logo_32px.png\" />Run in Google Colab</a>\n",
        "  </td>\n",
        "  <td>\n",
        "    <a target=\"_blank\" href=\"https://github.com/tensorflow/tensorboard/blob/master/docs/r2/tensorboard_in_notebooks.ipynb\"><img src=\"https://www.tensorflow.org/images/GitHub-Mark-32px.png\" />View source on GitHub</a>\n",
        "  </td>\n",
        "</table>"
      ]
    },
    {
      "cell_type": "markdown",
      "metadata": {
        "id": "elH58gbhWAmn",
        "colab_type": "text"
      },
      "source": [
        "TensorBoard can be used directly within notebook experiences such as [Colab](https://colab.research.google.com/) and [Jupyter](https://jupyter.org/). This can be helpful for sharing results, integrating TensorBoard into existing workflows, and using TensorBoard without installing anything locally."
      ]
    },
    {
      "cell_type": "markdown",
      "metadata": {
        "id": "VszJNloY3ZU3",
        "colab_type": "text"
      },
      "source": [
        "## Setup"
      ]
    },
    {
      "cell_type": "markdown",
      "metadata": {
        "id": "E6QhA_dp3eRq",
        "colab_type": "text"
      },
      "source": [
        "Start by installing TF 2.0 and loading the TensorBoard notebook extension:\n",
        "\n",
        "**For Jupyter users:** If you’ve installed Jupyter and TensorBoard into\n",
        "the same virtualenv, then you should be good to go. If you’re using a\n",
        "more complicated setup, like a global Jupyter installation and kernels\n",
        "for different Conda/virtualenv environments, then you must ensure that\n",
        "the `tensorboard` binary is on your `PATH` inside the Jupyter notebook\n",
        "context. One way to do this is to modify the `kernel_spec` to prepend\n",
        "the environment’s `bin` directory to `PATH`, [as described here][1].\n",
        "\n",
        "[1]: https://github.com/ipython/ipykernel/issues/395#issuecomment-479787997\n"
      ]
    },
    {
      "cell_type": "markdown",
      "metadata": {
        "id": "9w7Baxc8aCtJ",
        "colab_type": "text"
      },
      "source": [
        "In case you are running a [Docker](https://docs.docker.com/install/) image of [Jupyter Notebook server using TensorFlow's nightly](https://www.tensorflow.org/install/docker#examples_using_cpu-only_images), it is necessary to expose not only the notebook's port, but the TensorBoard's port.\n",
        "\n",
        "Thus, run the container with the following command:\n",
        "\n",
        "```\n",
        "docker run -it -p 8888:8888 -p 6006:6006 \\\n",
        "tensorflow/tensorflow:nightly-py3-jupyter \n",
        "```\n",
        "\n",
        "where the `-p 6006` is the default port of TensorBoard. This will allocate a port for you to run one TensorBoard instance. To have concurrent instances, it is necessary to allocate more ports.\n"
      ]
    },
    {
      "cell_type": "code",
      "metadata": {
        "id": "8p3Tbx8cWEFA",
        "colab_type": "code",
        "colab": {}
      },
      "source": [
        "!pip install -q tf-nightly-2.0-preview\n",
        "# Load the TensorBoard notebook extension\n",
        "%load_ext tensorboard"
      ],
      "execution_count": 0,
      "outputs": []
    },
    {
      "cell_type": "markdown",
      "metadata": {
        "id": "9GtR_cTTkf9G",
        "colab_type": "text"
      },
      "source": [
        "Import TensorFlow, datetime, and os:"
      ]
    },
    {
      "cell_type": "code",
      "metadata": {
        "id": "mVtYvbbIWRkV",
        "colab_type": "code",
        "colab": {}
      },
      "source": [
        "import tensorflow as tf\n",
        "import datetime, os"
      ],
      "execution_count": 0,
      "outputs": []
    },
    {
      "cell_type": "markdown",
      "metadata": {
        "id": "Cu1fbH-S3oAX",
        "colab_type": "text"
      },
      "source": [
        "## TensorBoard in notebooks"
      ]
    },
    {
      "cell_type": "markdown",
      "metadata": {
        "id": "XfCa27_8kov6",
        "colab_type": "text"
      },
      "source": [
        "Download the [FashionMNIST](https://github.com/zalandoresearch/fashion-mnist) dataset and scale it:"
      ]
    },
    {
      "cell_type": "code",
      "metadata": {
        "id": "z8b82G7YksOS",
        "colab_type": "code",
        "colab": {}
      },
      "source": [
        "fashion_mnist = tf.keras.datasets.fashion_mnist\n",
        "\n",
        "(x_train, y_train),(x_test, y_test) = fashion_mnist.load_data()\n",
        "x_train, x_test = x_train / 255.0, x_test / 255.0"
      ],
      "execution_count": 0,
      "outputs": []
    },
    {
      "cell_type": "markdown",
      "metadata": {
        "id": "lBk1BqAZKEKd",
        "colab_type": "text"
      },
      "source": [
        "Create a very simple model:"
      ]
    },
    {
      "cell_type": "code",
      "metadata": {
        "id": "OS7qGYiMKGQl",
        "colab_type": "code",
        "colab": {}
      },
      "source": [
        "def create_model():\n",
        "  return tf.keras.models.Sequential([\n",
        "    tf.keras.layers.Flatten(input_shape=(28, 28)),\n",
        "    tf.keras.layers.Dense(512, activation='relu'),\n",
        "    tf.keras.layers.Dropout(0.2),\n",
        "    tf.keras.layers.Dense(10, activation='softmax')\n",
        "  ])"
      ],
      "execution_count": 0,
      "outputs": []
    },
    {
      "cell_type": "markdown",
      "metadata": {
        "id": "RNaPPs5ZKNOV",
        "colab_type": "text"
      },
      "source": [
        "Train the model using Keras and the TensorBoard callback:"
      ]
    },
    {
      "cell_type": "code",
      "metadata": {
        "id": "lpUO9HqUKP6z",
        "colab_type": "code",
        "colab": {}
      },
      "source": [
        "def train_model():\n",
        "  \n",
        "  model = create_model()\n",
        "  model.compile(optimizer='adam',\n",
        "                loss='sparse_categorical_crossentropy',\n",
        "                metrics=['accuracy'])\n",
        "\n",
        "  logdir = os.path.join(\"logs\", datetime.datetime.now().strftime(\"%Y%m%d-%H%M%S\"))\n",
        "  tensorboard_callback = tf.keras.callbacks.TensorBoard(logdir, histogram_freq=1)\n",
        "\n",
        "  model.fit(x=x_train, \n",
        "            y=y_train, \n",
        "            epochs=5, \n",
        "            validation_data=(x_test, y_test), \n",
        "            callbacks=[tensorboard_callback])\n",
        "\n",
        "train_model()"
      ],
      "execution_count": 0,
      "outputs": []
    },
    {
      "cell_type": "markdown",
      "metadata": {
        "id": "SxvXc4hoKW7d",
        "colab_type": "text"
      },
      "source": [
        "Start TensorBoard within the notebook using [magics](https://ipython.readthedocs.io/en/stable/interactive/magics.html):"
      ]
    },
    {
      "cell_type": "code",
      "metadata": {
        "id": "KBHp6M_zgjp4",
        "colab_type": "code",
        "colab": {}
      },
      "source": [
        "%tensorboard --logdir logs"
      ],
      "execution_count": 0,
      "outputs": []
    },
    {
      "cell_type": "markdown",
      "metadata": {
        "id": "aQq3UHgmLBpC",
        "colab_type": "text"
      },
      "source": [
        "You can now view dashboards such as scalars, graphs, histograms, and others. Some dashboards are not available yet in Colab (such as the profile plugin).\n",
        "\n",
        "The `%tensorboard` magic has exactly the same format as the TensorBoard command line invocation, but with a `%`-sign in front of it."
      ]
    },
    {
      "cell_type": "markdown",
      "metadata": {
        "id": "NiIMwOG8MR_g",
        "colab_type": "text"
      },
      "source": [
        "You can also start TensorBoard before training to monitor it in progress:"
      ]
    },
    {
      "cell_type": "code",
      "metadata": {
        "id": "qyI5lrXoMw9K",
        "colab_type": "code",
        "colab": {}
      },
      "source": [
        "%tensorboard --logdir logs"
      ],
      "execution_count": 0,
      "outputs": []
    },
    {
      "cell_type": "markdown",
      "metadata": {
        "id": "GUSM8yLrO2yZ",
        "colab_type": "text"
      },
      "source": [
        "The same TensorBoard backend is reused by issuing the same command. If a different logs directory was chosen, a new instance of TensorBoard would be opened. Ports are managed automatically. \n",
        "\n",
        "Start training a new model and watch TensorBoard update automatically every 30 seconds or refresh it with the button on the top right:"
      ]
    },
    {
      "cell_type": "code",
      "metadata": {
        "id": "ixZlmtWhMyr4",
        "colab_type": "code",
        "colab": {}
      },
      "source": [
        "train_model()"
      ],
      "execution_count": 0,
      "outputs": []
    },
    {
      "cell_type": "markdown",
      "metadata": {
        "id": "IlDz2oXBgnZ9",
        "colab_type": "text"
      },
      "source": [
        "You can use the `tensorboard.notebook` APIs for a bit more control:"
      ]
    },
    {
      "cell_type": "code",
      "metadata": {
        "id": "ko9qeSQHLrEh",
        "colab_type": "code",
        "colab": {}
      },
      "source": [
        "from tensorboard import notebook\n",
        "notebook.list() # View open TensorBoard instances"
      ],
      "execution_count": 0,
      "outputs": []
    },
    {
      "cell_type": "code",
      "metadata": {
        "id": "hzm9DNVILxJe",
        "colab_type": "code",
        "colab": {}
      },
      "source": [
        "# Control TensorBoard display. If no port is provided, \n",
        "# the most recently launched TensorBoard is used\n",
        "notebook.display(port=6006, height=1000) "
      ],
      "execution_count": 0,
      "outputs": []
    }
  ]
}