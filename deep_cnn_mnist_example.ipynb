{
  "nbformat": 4,
  "nbformat_minor": 0,
  "metadata": {
    "colab": {
      "name": "deep_cnn_mnist_example",
      "version": "0.3.2",
      "provenance": [],
      "collapsed_sections": []
    },
    "kernelspec": {
      "name": "python3",
      "display_name": "Python 3"
    }
  },
  "cells": [
    {
      "metadata": {
        "id": "b8Pu332d1_rq",
        "colab_type": "text"
      },
      "cell_type": "markdown",
      "source": [
        "# **Step 1: Import required libraries**"
      ]
    },
    {
      "metadata": {
        "id": "xkqT0C2t12uO",
        "colab_type": "code",
        "colab": {
          "base_uri": "https://localhost:8080/",
          "height": 34
        },
        "outputId": "4f607d57-1a31-4b32-9d80-cb54dc7e2948"
      },
      "cell_type": "code",
      "source": [
        "import keras\n",
        "import numpy as np\n",
        "from keras.preprocessing import image\n",
        "from keras.datasets import mnist\n",
        "from keras.models import Sequential\n",
        "from keras.layers.core import Dense, Dropout, Lambda, Flatten\n",
        "from keras.layers import Convolution2D, MaxPooling2D, ZeroPadding2D, BatchNormalization\n",
        "from keras.optimizers import Adam"
      ],
      "execution_count": 1,
      "outputs": [
        {
          "output_type": "stream",
          "text": [
            "Using TensorFlow backend.\n"
          ],
          "name": "stderr"
        }
      ]
    },
    {
      "metadata": {
        "id": "UQCXjd4M3S7p",
        "colab_type": "text"
      },
      "cell_type": "markdown",
      "source": [
        "# **Step 2: Define all helper functions**"
      ]
    },
    {
      "metadata": {
        "id": "-cRIm91e5FmP",
        "colab_type": "text"
      },
      "cell_type": "markdown",
      "source": [
        "**normalize** \n",
        "\n",
        "-> this method normalizes the entire dataset \n",
        "\n",
        "-> i.e. subtract mean value of the distribution from each data point and divide it by standard deviation of the distribution\n",
        "\n",
        "-> this helps in transforming the entire dataset into values just between 0 and 1, helps avoiding memory overflow due to large numbers."
      ]
    },
    {
      "metadata": {
        "id": "-wbeyIJH5LEA",
        "colab_type": "code",
        "colab": {}
      },
      "cell_type": "code",
      "source": [
        "def normalize(x):\n",
        "    x_mean = x_train.mean().astype(np.float32)\n",
        "    x_std = x_train.std().astype(np.float32)\n",
        "    return (x - x_mean) / x_std"
      ],
      "execution_count": 0,
      "outputs": []
    },
    {
      "metadata": {
        "id": "cvJxK2bx7Ecw",
        "colab_type": "text"
      },
      "cell_type": "markdown",
      "source": [
        "**onehot** \n",
        "\n",
        "-> this method performs “binarization” of the category and include it as a feature to train the model\n",
        "\n",
        "-> Suppose you have ‘flower’ feature which can take values ‘daffodil’, ‘lily’, and ‘rose’. One hot encoding converts ‘flower’ feature to three features, ‘is_daffodil’, ‘is_lily’, and ‘is_rose’ which all are binary. \n",
        "\n",
        "![Onwhot Encoding](https://cdn-images-1.medium.com/max/1200/1*Ac4z1rWWuU0TzxJRUM62WA.jpeg)\n",
        "*Courtesy - hackernoon.com*"
      ]
    },
    {
      "metadata": {
        "id": "v1-Du5cG6V9E",
        "colab_type": "code",
        "colab": {}
      },
      "cell_type": "code",
      "source": [
        "def onehot(y):\n",
        "    return keras.utils.np_utils.to_categorical(y)"
      ],
      "execution_count": 0,
      "outputs": []
    },
    {
      "metadata": {
        "id": "e2ta0S8e8hL5",
        "colab_type": "text"
      },
      "cell_type": "markdown",
      "source": [
        "**get_data**"
      ]
    },
    {
      "metadata": {
        "id": "MLu36hXY8Mrd",
        "colab_type": "code",
        "colab": {}
      },
      "cell_type": "code",
      "source": [
        "def get_data(sample=False):\n",
        "    if sample:\n",
        "        x,y = x_train_sample, y_train_sample\n",
        "        val_x, val_y = x_test_sample, y_test_sample\n",
        "    else:\n",
        "        x,y = x_train, y_train\n",
        "        val_x, val_y = x_test, y_test\n",
        "    return x, y, val_x, val_y"
      ],
      "execution_count": 0,
      "outputs": []
    },
    {
      "metadata": {
        "id": "3Np6ator3pbX",
        "colab_type": "text"
      },
      "cell_type": "markdown",
      "source": [
        "**basic_model**\n",
        "\n",
        "-> Input Shape is 28 X 28 X 1\n",
        "\n",
        "-> Normalize the input before feeding into your Neural Net\n",
        "\n",
        "-> Lambda - wraps arbitrary expression as a Layer object."
      ]
    },
    {
      "metadata": {
        "id": "vWCUuIRu8ozB",
        "colab_type": "code",
        "colab": {}
      },
      "cell_type": "code",
      "source": [
        "def basic_model():\n",
        "    return Sequential([Lambda(normalize, input_shape=(28,28,1))])"
      ],
      "execution_count": 0,
      "outputs": []
    },
    {
      "metadata": {
        "id": "QfzLP6id8q_x",
        "colab_type": "text"
      },
      "cell_type": "markdown",
      "source": [
        "**add_output_layer**\n",
        "\n",
        "-> Batch size = 10\n",
        "\n",
        "-> Activation = Softmax function calculates the probabilities distribution of the event over ‘n’ different events. In general way of saying, this function will calculate the probabilities of each target class over all possible target classes. Later the calculated probabilities will be helpful for determining the target class for the given inputs.\n",
        "\n",
        "The main advantage of using Softmax is the output probabilities range. The range will 0 to 1, and the sum of all the probabilities will be equal to one. If the softmax function used for multi-classification model it returns the probabilities of each class and the target class will have the high probability.\n",
        "\n",
        "The formula computes the exponential (e-power) of the given input value and the sum of exponential values of all the values in the inputs. Then the ratio of the exponential of the input value and the sum of exponential values is the output of the softmax function.\n",
        "\n",
        "Properties:\n",
        "1.  The calculated probabilities will be in the range of 0 to 1.\n",
        "2.  The sum of all the probabilities is equals to 1.\n",
        "\n",
        "\n",
        "Softmax Function Usage:\n",
        "1.  Used in multiple classification logistic regression model.\n",
        "2.  In building neural networks softmax functions used in different layer level.\n",
        "\n",
        "\n",
        "\n"
      ]
    },
    {
      "metadata": {
        "id": "nzYisZ3h8wO9",
        "colab_type": "code",
        "colab": {}
      },
      "cell_type": "code",
      "source": [
        "def add_output_layer(model):\n",
        "    model.add(Dense(10, activation=\"softmax\"))"
      ],
      "execution_count": 0,
      "outputs": []
    },
    {
      "metadata": {
        "id": "xwWqkMN488to",
        "colab_type": "text"
      },
      "cell_type": "markdown",
      "source": [
        "**convolutional_model**"
      ]
    },
    {
      "metadata": {
        "id": "DDSIWfnR8-Cd",
        "colab_type": "code",
        "colab": {}
      },
      "cell_type": "code",
      "source": [
        "def convolutional_model(conv_blocks=2, hidden_dense_activation=\"relu\", pool_size=2, num_dense_neurons=512, starting_filter_size=32, batchnorm=False, zero_padding=True, dropout=False):\n",
        "    model = basic_model()\n",
        "    \n",
        "    for block in range(conv_blocks):\n",
        "        num_filters = starting_filter_size * (block + 1)\n",
        "        \n",
        "        if zero_padding:\n",
        "            model.add(ZeroPadding2D())\n",
        "        model.add(Convolution2D(num_filters, 3, 3, activation=\"relu\"))\n",
        "        \n",
        "        if batchnorm:\n",
        "            model.add(BatchNormalization(axis=1))\n",
        "        model.add(Convolution2D(num_filters, 3, 3, activation=\"relu\"))\n",
        "        \n",
        "        model.add(MaxPooling2D(pool_size=pool_size))\n",
        "        \n",
        "        if batchnorm and block is not conv_blocks - 1:\n",
        "            model.add(BatchNormalization(axis=1))\n",
        "            \n",
        "    model.add(Flatten())\n",
        "    \n",
        "    if batchnorm:\n",
        "        model.add(BatchNormalization(axis=1))\n",
        "    model.add(Dense(num_dense_neurons, activation=hidden_dense_activation))\n",
        "    \n",
        "    if batchnorm:\n",
        "        model.add(BatchNormalization(axis=1))\n",
        "    \n",
        "    if dropout:\n",
        "        model.add(Dropout(dropout))\n",
        "    \n",
        "    add_output_layer(model)\n",
        "    \n",
        "    return model"
      ],
      "execution_count": 0,
      "outputs": []
    },
    {
      "metadata": {
        "id": "JaXCiAs-9F24",
        "colab_type": "text"
      },
      "cell_type": "markdown",
      "source": [
        "**compile_model**"
      ]
    },
    {
      "metadata": {
        "id": "pQpBVk-69LnR",
        "colab_type": "code",
        "colab": {}
      },
      "cell_type": "code",
      "source": [
        "def compile_model(model):\n",
        "    # Categorical cross entropy is used when you have more than 2 classes to compare against.\n",
        "    # We have 10 classes for MNIST (digits 0 - 9), so thus we use it here.\n",
        "    return model.compile(optimizer=Adam(), loss=\"categorical_crossentropy\", metrics=[\"accuracy\"])"
      ],
      "execution_count": 0,
      "outputs": []
    },
    {
      "metadata": {
        "id": "fv5c3ieC9M1c",
        "colab_type": "text"
      },
      "cell_type": "markdown",
      "source": [
        "**fit**"
      ]
    },
    {
      "metadata": {
        "id": "eTtpcC1v9Qi2",
        "colab_type": "code",
        "colab": {}
      },
      "cell_type": "code",
      "source": [
        "def fit(model, learning_rate=None, epochs=1, sample=False):\n",
        "    \n",
        "    model.optimizer.lr = learning_rate if learning_rate else model.optimizer.lr\n",
        "    \n",
        "    x, y, val_x, val_y = get_data(sample=sample)\n",
        "    \n",
        "    model.fit(x, y, batch_size=64, epochs=epochs, validation_data=(val_x, val_y))"
      ],
      "execution_count": 0,
      "outputs": []
    },
    {
      "metadata": {
        "id": "0LkC49ZK9XfJ",
        "colab_type": "text"
      },
      "cell_type": "markdown",
      "source": [
        "**multi_fit**"
      ]
    },
    {
      "metadata": {
        "id": "8Grhu2vq9WT0",
        "colab_type": "code",
        "colab": {}
      },
      "cell_type": "code",
      "source": [
        "def multi_fit(model, reset=True, augmentation=False, sample=False, epochs=1, runs=1):\n",
        "    for run in range(runs):\n",
        "        for learning_rate in [0.001, 0.01, 0.1]:\n",
        "            print(\"Fitting with learning rate of: \", learning_rate)\n",
        "            \n",
        "            fit(model, learning_rate=learning_rate, epochs=epochs, sample=sample)\n",
        "            \n",
        "            if reset:\n",
        "                # Resetting is nice here for comparing differences in learning rate, without the compounding factor of model state across epochs\n",
        "                model.reset_states()"
      ],
      "execution_count": 0,
      "outputs": []
    },
    {
      "metadata": {
        "id": "_kUS5nN0-uuC",
        "colab_type": "text"
      },
      "cell_type": "markdown",
      "source": [
        "# **Step 3: Define all executor functions**"
      ]
    },
    {
      "metadata": {
        "id": "AEOEzEFm9bXK",
        "colab_type": "text"
      },
      "cell_type": "markdown",
      "source": [
        "**Load Data** - load MNIST dataset"
      ]
    },
    {
      "metadata": {
        "id": "iumuapAN9y_u",
        "colab_type": "code",
        "colab": {
          "base_uri": "https://localhost:8080/",
          "height": 51
        },
        "outputId": "41bfe01c-bbe8-4111-8f0e-626d2de830bf"
      },
      "cell_type": "code",
      "source": [
        "(x_train, y_train), (x_test, y_test) = mnist.load_data()\n",
        "x_test = np.expand_dims(x_test, -1)\n",
        "x_train = np.expand_dims(x_train, -1)\n",
        "y_train = onehot(y_train)\n",
        "y_test = onehot(y_test)\n",
        "\n",
        "sample_size = 4000\n",
        "x_train_sample = x_train[:sample_size]\n",
        "y_train_sample = y_train[:sample_size]\n",
        "x_test_sample = x_test[:sample_size]\n",
        "y_test_sample = y_test[:sample_size]\n",
        "\n",
        "\n",
        "print(\"Shape of Input Data : \", x_train_sample.shape)\n",
        "print(\"Shape of Output Labels : \",y_train_sample.shape)"
      ],
      "execution_count": 24,
      "outputs": [
        {
          "output_type": "stream",
          "text": [
            "Shape of Input Data :  (4000, 28, 28, 1)\n",
            "Shape of Output Labels :  (4000, 10)\n"
          ],
          "name": "stdout"
        }
      ]
    },
    {
      "metadata": {
        "id": "RQZ8Jw8h-Lqp",
        "colab_type": "text"
      },
      "cell_type": "markdown",
      "source": [
        "**Define Model**"
      ]
    },
    {
      "metadata": {
        "id": "a7dCC-Xg-b8j",
        "colab_type": "code",
        "colab": {
          "base_uri": "https://localhost:8080/",
          "height": 105
        },
        "outputId": "c6126b00-1ca0-4b8f-8261-e04704b20782"
      },
      "cell_type": "code",
      "source": [
        "model = convolutional_model(conv_blocks=1, starting_filter_size=3, pool_size=(4,4), hidden_dense_activation=\"relu\", num_dense_neurons=8)"
      ],
      "execution_count": 25,
      "outputs": [
        {
          "output_type": "stream",
          "text": [
            "/usr/local/lib/python3.6/dist-packages/ipykernel_launcher.py:9: UserWarning: Update your `Conv2D` call to the Keras 2 API: `Conv2D(3, (3, 3), activation=\"relu\")`\n",
            "  if __name__ == '__main__':\n",
            "/usr/local/lib/python3.6/dist-packages/ipykernel_launcher.py:13: UserWarning: Update your `Conv2D` call to the Keras 2 API: `Conv2D(3, (3, 3), activation=\"relu\")`\n",
            "  del sys.path[0]\n"
          ],
          "name": "stderr"
        }
      ]
    },
    {
      "metadata": {
        "id": "gdGtkxJV-et6",
        "colab_type": "text"
      },
      "cell_type": "markdown",
      "source": [
        "**Compile Model**"
      ]
    },
    {
      "metadata": {
        "id": "xiLOVNUf-g_Y",
        "colab_type": "code",
        "colab": {}
      },
      "cell_type": "code",
      "source": [
        "compile_model(model)"
      ],
      "execution_count": 0,
      "outputs": []
    },
    {
      "metadata": {
        "id": "ciT-lSjD-i9a",
        "colab_type": "text"
      },
      "cell_type": "markdown",
      "source": [
        "**Optimize Model**"
      ]
    },
    {
      "metadata": {
        "id": "tjHuH-2--lgg",
        "colab_type": "code",
        "colab": {
          "base_uri": "https://localhost:8080/",
          "height": 3077
        },
        "outputId": "55b43353-69b4-4bfc-d41d-d3453d0f8363"
      },
      "cell_type": "code",
      "source": [
        "multi_fit(model, sample=True, epochs=2, runs=10)"
      ],
      "execution_count": 27,
      "outputs": [
        {
          "output_type": "stream",
          "text": [
            "Fitting with learning rate of:  0.001\n",
            "Train on 4000 samples, validate on 4000 samples\n",
            "Epoch 1/2\n",
            "4000/4000 [==============================] - 4s 1ms/step - loss: 2.2952 - acc: 0.1363 - val_loss: 2.1916 - val_acc: 0.1670\n",
            "Epoch 2/2\n",
            "4000/4000 [==============================] - 4s 988us/step - loss: 1.9467 - acc: 0.3285 - val_loss: 1.8100 - val_acc: 0.3643\n",
            "Fitting with learning rate of:  0.01\n",
            "Train on 4000 samples, validate on 4000 samples\n",
            "Epoch 1/2\n",
            "4000/4000 [==============================] - 4s 995us/step - loss: 1.3082 - acc: 0.5790 - val_loss: 1.2239 - val_acc: 0.5975\n",
            "Epoch 2/2\n",
            "4000/4000 [==============================] - 4s 995us/step - loss: 0.8562 - acc: 0.7368 - val_loss: 0.9700 - val_acc: 0.6853\n",
            "Fitting with learning rate of:  0.1\n",
            "Train on 4000 samples, validate on 4000 samples\n",
            "Epoch 1/2\n",
            "4000/4000 [==============================] - 4s 988us/step - loss: 0.6800 - acc: 0.7943 - val_loss: 0.8404 - val_acc: 0.7340\n",
            "Epoch 2/2\n",
            "4000/4000 [==============================] - 4s 993us/step - loss: 0.5867 - acc: 0.8143 - val_loss: 0.7601 - val_acc: 0.7578\n",
            "Fitting with learning rate of:  0.001\n",
            "Train on 4000 samples, validate on 4000 samples\n",
            "Epoch 1/2\n",
            "4000/4000 [==============================] - 4s 986us/step - loss: 0.5221 - acc: 0.8377 - val_loss: 0.7080 - val_acc: 0.7770\n",
            "Epoch 2/2\n",
            "4000/4000 [==============================] - 4s 985us/step - loss: 0.4725 - acc: 0.8535 - val_loss: 0.6478 - val_acc: 0.8000\n",
            "Fitting with learning rate of:  0.01\n",
            "Train on 4000 samples, validate on 4000 samples\n",
            "Epoch 1/2\n",
            "4000/4000 [==============================] - 4s 987us/step - loss: 0.4379 - acc: 0.8630 - val_loss: 0.6293 - val_acc: 0.8015\n",
            "Epoch 2/2\n",
            "4000/4000 [==============================] - 4s 986us/step - loss: 0.4084 - acc: 0.8700 - val_loss: 0.5669 - val_acc: 0.8207\n",
            "Fitting with learning rate of:  0.1\n",
            "Train on 4000 samples, validate on 4000 samples\n",
            "Epoch 1/2\n",
            "4000/4000 [==============================] - 4s 985us/step - loss: 0.3831 - acc: 0.8743 - val_loss: 0.5296 - val_acc: 0.8337\n",
            "Epoch 2/2\n",
            "4000/4000 [==============================] - 4s 983us/step - loss: 0.3606 - acc: 0.8832 - val_loss: 0.5227 - val_acc: 0.8343\n",
            "Fitting with learning rate of:  0.001\n",
            "Train on 4000 samples, validate on 4000 samples\n",
            "Epoch 1/2\n",
            "4000/4000 [==============================] - 4s 986us/step - loss: 0.3430 - acc: 0.8877 - val_loss: 0.4823 - val_acc: 0.8465\n",
            "Epoch 2/2\n",
            "4000/4000 [==============================] - 4s 1ms/step - loss: 0.3234 - acc: 0.8985 - val_loss: 0.4711 - val_acc: 0.8442\n",
            "Fitting with learning rate of:  0.01\n",
            "Train on 4000 samples, validate on 4000 samples\n",
            "Epoch 1/2\n",
            "4000/4000 [==============================] - 4s 1ms/step - loss: 0.3068 - acc: 0.9025 - val_loss: 0.4544 - val_acc: 0.8525\n",
            "Epoch 2/2\n",
            "4000/4000 [==============================] - 4s 1ms/step - loss: 0.2962 - acc: 0.9087 - val_loss: 0.4358 - val_acc: 0.8585\n",
            "Fitting with learning rate of:  0.1\n",
            "Train on 4000 samples, validate on 4000 samples\n",
            "Epoch 1/2\n",
            "4000/4000 [==============================] - 4s 1ms/step - loss: 0.2808 - acc: 0.9103 - val_loss: 0.4326 - val_acc: 0.8580\n",
            "Epoch 2/2\n",
            "4000/4000 [==============================] - 4s 1ms/step - loss: 0.2711 - acc: 0.9147 - val_loss: 0.4067 - val_acc: 0.8712\n",
            "Fitting with learning rate of:  0.001\n",
            "Train on 4000 samples, validate on 4000 samples\n",
            "Epoch 1/2\n",
            "4000/4000 [==============================] - 4s 976us/step - loss: 0.2575 - acc: 0.9180 - val_loss: 0.3980 - val_acc: 0.8730\n",
            "Epoch 2/2\n",
            "4000/4000 [==============================] - 4s 983us/step - loss: 0.2477 - acc: 0.9203 - val_loss: 0.3830 - val_acc: 0.8785\n",
            "Fitting with learning rate of:  0.01\n",
            "Train on 4000 samples, validate on 4000 samples\n",
            "Epoch 1/2\n",
            "4000/4000 [==============================] - 4s 980us/step - loss: 0.2353 - acc: 0.9293 - val_loss: 0.3729 - val_acc: 0.8845\n",
            "Epoch 2/2\n",
            "4000/4000 [==============================] - 4s 981us/step - loss: 0.2286 - acc: 0.9317 - val_loss: 0.3581 - val_acc: 0.8862\n",
            "Fitting with learning rate of:  0.1\n",
            "Train on 4000 samples, validate on 4000 samples\n",
            "Epoch 1/2\n",
            "4000/4000 [==============================] - 4s 981us/step - loss: 0.2206 - acc: 0.9345 - val_loss: 0.3520 - val_acc: 0.8872\n",
            "Epoch 2/2\n",
            "4000/4000 [==============================] - 4s 980us/step - loss: 0.2083 - acc: 0.9365 - val_loss: 0.3480 - val_acc: 0.8905\n",
            "Fitting with learning rate of:  0.001\n",
            "Train on 4000 samples, validate on 4000 samples\n",
            "Epoch 1/2\n",
            "4000/4000 [==============================] - 4s 980us/step - loss: 0.2017 - acc: 0.9387 - val_loss: 0.3409 - val_acc: 0.8950\n",
            "Epoch 2/2\n",
            "4000/4000 [==============================] - 4s 986us/step - loss: 0.1914 - acc: 0.9420 - val_loss: 0.3275 - val_acc: 0.8958\n",
            "Fitting with learning rate of:  0.01\n",
            "Train on 4000 samples, validate on 4000 samples\n",
            "Epoch 1/2\n",
            "4000/4000 [==============================] - 4s 981us/step - loss: 0.1880 - acc: 0.9442 - val_loss: 0.3426 - val_acc: 0.8952\n",
            "Epoch 2/2\n",
            "4000/4000 [==============================] - 4s 987us/step - loss: 0.1823 - acc: 0.9447 - val_loss: 0.3214 - val_acc: 0.8990\n",
            "Fitting with learning rate of:  0.1\n",
            "Train on 4000 samples, validate on 4000 samples\n",
            "Epoch 1/2\n",
            "4000/4000 [==============================] - 4s 988us/step - loss: 0.1766 - acc: 0.9453 - val_loss: 0.3144 - val_acc: 0.9008\n",
            "Epoch 2/2\n",
            "4000/4000 [==============================] - 4s 981us/step - loss: 0.1693 - acc: 0.9467 - val_loss: 0.3054 - val_acc: 0.9012\n",
            "Fitting with learning rate of:  0.001\n",
            "Train on 4000 samples, validate on 4000 samples\n",
            "Epoch 1/2\n",
            "4000/4000 [==============================] - 4s 987us/step - loss: 0.1619 - acc: 0.9545 - val_loss: 0.3113 - val_acc: 0.9060\n",
            "Epoch 2/2\n",
            "4000/4000 [==============================] - 4s 984us/step - loss: 0.1574 - acc: 0.9532 - val_loss: 0.3013 - val_acc: 0.9085\n",
            "Fitting with learning rate of:  0.01\n",
            "Train on 4000 samples, validate on 4000 samples\n",
            "Epoch 1/2\n",
            "4000/4000 [==============================] - 4s 985us/step - loss: 0.1531 - acc: 0.9525 - val_loss: 0.2972 - val_acc: 0.9087\n",
            "Epoch 2/2\n",
            "4000/4000 [==============================] - 4s 985us/step - loss: 0.1499 - acc: 0.9535 - val_loss: 0.2862 - val_acc: 0.9083\n",
            "Fitting with learning rate of:  0.1\n",
            "Train on 4000 samples, validate on 4000 samples\n",
            "Epoch 1/2\n",
            "4000/4000 [==============================] - 4s 985us/step - loss: 0.1474 - acc: 0.9540 - val_loss: 0.2839 - val_acc: 0.9143\n",
            "Epoch 2/2\n",
            "4000/4000 [==============================] - 4s 982us/step - loss: 0.1415 - acc: 0.9555 - val_loss: 0.2868 - val_acc: 0.9095\n",
            "Fitting with learning rate of:  0.001\n",
            "Train on 4000 samples, validate on 4000 samples\n",
            "Epoch 1/2\n",
            "4000/4000 [==============================] - 4s 980us/step - loss: 0.1375 - acc: 0.9562 - val_loss: 0.2758 - val_acc: 0.9135\n",
            "Epoch 2/2\n",
            "4000/4000 [==============================] - 4s 981us/step - loss: 0.1366 - acc: 0.9595 - val_loss: 0.2812 - val_acc: 0.9143\n",
            "Fitting with learning rate of:  0.01\n",
            "Train on 4000 samples, validate on 4000 samples\n",
            "Epoch 1/2\n",
            "4000/4000 [==============================] - 4s 980us/step - loss: 0.1297 - acc: 0.9587 - val_loss: 0.2731 - val_acc: 0.9160\n",
            "Epoch 2/2\n",
            "4000/4000 [==============================] - 4s 984us/step - loss: 0.1285 - acc: 0.9605 - val_loss: 0.2704 - val_acc: 0.9175\n",
            "Fitting with learning rate of:  0.1\n",
            "Train on 4000 samples, validate on 4000 samples\n",
            "Epoch 1/2\n",
            "4000/4000 [==============================] - 4s 980us/step - loss: 0.1215 - acc: 0.9617 - val_loss: 0.2674 - val_acc: 0.9160\n",
            "Epoch 2/2\n",
            "4000/4000 [==============================] - 4s 983us/step - loss: 0.1228 - acc: 0.9603 - val_loss: 0.2717 - val_acc: 0.9170\n",
            "Fitting with learning rate of:  0.001\n",
            "Train on 4000 samples, validate on 4000 samples\n",
            "Epoch 1/2\n",
            "4000/4000 [==============================] - 4s 986us/step - loss: 0.1158 - acc: 0.9620 - val_loss: 0.2651 - val_acc: 0.9193\n",
            "Epoch 2/2\n",
            "4000/4000 [==============================] - 4s 990us/step - loss: 0.1122 - acc: 0.9633 - val_loss: 0.2701 - val_acc: 0.9187\n",
            "Fitting with learning rate of:  0.01\n",
            "Train on 4000 samples, validate on 4000 samples\n",
            "Epoch 1/2\n",
            "4000/4000 [==============================] - 4s 985us/step - loss: 0.1171 - acc: 0.9627 - val_loss: 0.2650 - val_acc: 0.9183\n",
            "Epoch 2/2\n",
            "4000/4000 [==============================] - 4s 981us/step - loss: 0.1057 - acc: 0.9657 - val_loss: 0.2615 - val_acc: 0.9215\n",
            "Fitting with learning rate of:  0.1\n",
            "Train on 4000 samples, validate on 4000 samples\n",
            "Epoch 1/2\n",
            "4000/4000 [==============================] - 4s 977us/step - loss: 0.1059 - acc: 0.9665 - val_loss: 0.2618 - val_acc: 0.9195\n",
            "Epoch 2/2\n",
            "4000/4000 [==============================] - 4s 982us/step - loss: 0.1026 - acc: 0.9647 - val_loss: 0.2587 - val_acc: 0.9205\n",
            "Fitting with learning rate of:  0.001\n",
            "Train on 4000 samples, validate on 4000 samples\n",
            "Epoch 1/2\n",
            "4000/4000 [==============================] - 4s 980us/step - loss: 0.1032 - acc: 0.9667 - val_loss: 0.2835 - val_acc: 0.9165\n",
            "Epoch 2/2\n",
            "4000/4000 [==============================] - 4s 984us/step - loss: 0.1007 - acc: 0.9677 - val_loss: 0.2770 - val_acc: 0.9193\n",
            "Fitting with learning rate of:  0.01\n",
            "Train on 4000 samples, validate on 4000 samples\n",
            "Epoch 1/2\n",
            "4000/4000 [==============================] - 4s 984us/step - loss: 0.0948 - acc: 0.9695 - val_loss: 0.2500 - val_acc: 0.9233\n",
            "Epoch 2/2\n",
            "4000/4000 [==============================] - 4s 987us/step - loss: 0.0946 - acc: 0.9698 - val_loss: 0.2672 - val_acc: 0.9217\n",
            "Fitting with learning rate of:  0.1\n",
            "Train on 4000 samples, validate on 4000 samples\n",
            "Epoch 1/2\n",
            "4000/4000 [==============================] - 4s 988us/step - loss: 0.0893 - acc: 0.9702 - val_loss: 0.2482 - val_acc: 0.9265\n",
            "Epoch 2/2\n",
            "4000/4000 [==============================] - 4s 977us/step - loss: 0.0891 - acc: 0.9710 - val_loss: 0.2504 - val_acc: 0.9245\n",
            "Fitting with learning rate of:  0.001\n",
            "Train on 4000 samples, validate on 4000 samples\n",
            "Epoch 1/2\n",
            "4000/4000 [==============================] - 4s 975us/step - loss: 0.0871 - acc: 0.9718 - val_loss: 0.2550 - val_acc: 0.9223\n",
            "Epoch 2/2\n",
            "4000/4000 [==============================] - 4s 980us/step - loss: 0.0856 - acc: 0.9712 - val_loss: 0.2571 - val_acc: 0.9243\n",
            "Fitting with learning rate of:  0.01\n",
            "Train on 4000 samples, validate on 4000 samples\n",
            "Epoch 1/2\n",
            "4000/4000 [==============================] - 4s 981us/step - loss: 0.0862 - acc: 0.9735 - val_loss: 0.2535 - val_acc: 0.9257\n",
            "Epoch 2/2\n",
            "4000/4000 [==============================] - 4s 979us/step - loss: 0.0817 - acc: 0.9755 - val_loss: 0.2577 - val_acc: 0.9255\n",
            "Fitting with learning rate of:  0.1\n",
            "Train on 4000 samples, validate on 4000 samples\n",
            "Epoch 1/2\n",
            "4000/4000 [==============================] - 4s 982us/step - loss: 0.0778 - acc: 0.9745 - val_loss: 0.2502 - val_acc: 0.9270\n",
            "Epoch 2/2\n",
            "4000/4000 [==============================] - 4s 985us/step - loss: 0.0824 - acc: 0.9748 - val_loss: 0.2548 - val_acc: 0.9253\n"
          ],
          "name": "stdout"
        }
      ]
    },
    {
      "metadata": {
        "id": "xx72AMtCCJzz",
        "colab_type": "code",
        "colab": {}
      },
      "cell_type": "code",
      "source": [
        ""
      ],
      "execution_count": 0,
      "outputs": []
    }
  ]
}